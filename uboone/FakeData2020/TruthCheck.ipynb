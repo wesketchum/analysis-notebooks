{
 "cells": [
  {
   "cell_type": "code",
   "execution_count": 2,
   "metadata": {},
   "outputs": [
    {
     "name": "stdout",
     "output_type": "stream",
     "text": [
      "python tools loaded.\n"
     ]
    }
   ],
   "source": [
    "import os, sys\n",
    "sys.path.append(\"../../common/\")\n",
    "from python_tools import *"
   ]
  },
  {
   "cell_type": "code",
   "execution_count": 3,
   "metadata": {},
   "outputs": [],
   "source": [
    "%matplotlib notebook"
   ]
  },
  {
   "cell_type": "code",
   "execution_count": 7,
   "metadata": {},
   "outputs": [],
   "source": [
    "TRUTH_DF_FILE = \"/Users/wketchum/Data/MicroBooNE/FakeData2020/Set1/mcana_dfs.h5\"\n",
    "PELEE_1ENP_FILES = [\"/Users/wketchum/Data/MicroBooNE/FakeData2020/PeLEE/fakedata1/data_1eNp_fakedata1.root\"]\n",
    "PELEE_1E0P_FILES = [\"/Users/wketchum/Data/MicroBooNE/FakeData2020/PeLEE/1e0p/prod_uboone_nu2020_fakedata_set1_run1_reco2_v08_00_00_41_reco2_fakedata1_1e0p_BDT_sbnfit.root\",\n",
    "                    \"/Users/wketchum/Data/MicroBooNE/FakeData2020/PeLEE/1e0p/prod_uboone_nu2020_fakedata_set1_run3b_reco2_v08_00_00_41_reco2_fakedata1_1e0p_BDT_sbnfit.root\"]\n",
    "DLLEE_FILES = [\"/Users/wketchum/Data/MicroBooNE/FakeData2020/DLeLEE/sel1e1p_fakedata_set1_run1_eventlist.txt\",\n",
    "               \"/Users/wketchum/Data/MicroBooNE/FakeData2020/DLeLEE/sel1e1p_fakedata_set1_run3_eventlist.txt\"]"
   ]
  },
  {
   "cell_type": "code",
   "execution_count": 54,
   "metadata": {},
   "outputs": [],
   "source": [
    "df_n = pd.read_hdf(TRUTH_DF_FILE,\"ev_df\")\n",
    "df_n = df_n.reset_index()\n",
    "df_n = df_n.astype({\"run\":\"int64\",\"subrun\":\"int64\",\"event\":\"int64\"})"
   ]
  },
  {
   "cell_type": "code",
   "execution_count": 55,
   "metadata": {},
   "outputs": [],
   "source": [
    "pelee_1eNp_df = pd.concat([uproot.open(f)[\"NeutrinoSelectionFilter\"].pandas.df() for f in PELEE_1ENP_FILES])\n",
    "pelee_1e0p_df = pd.concat([uproot.open(f)[\"NeutrinoSelectionFilter\"].pandas.df() for f in PELEE_1E0P_FILES])\n",
    "pelee_1eNp_df = pelee_1eNp_df.rename(columns={\"sub\":\"subrun\",\"evt\":\"event\"})\n",
    "pelee_1e0p_df = pelee_1e0p_df.rename(columns={\"sub\":\"subrun\",\"evt\":\"event\"})"
   ]
  },
  {
   "cell_type": "code",
   "execution_count": 56,
   "metadata": {},
   "outputs": [],
   "source": [
    "dl_df = pd.concat([pd.read_csv(f,names=[\"run\",\"subrun\",\"event\",\"reco_nu_e\"],header=None) for f in DLLEE_FILES])"
   ]
  },
  {
   "cell_type": "code",
   "execution_count": 62,
   "metadata": {},
   "outputs": [],
   "source": [
    "def find_truth(df_t,r,sr,ev):\n",
    "    return df_t.query(\"run==%d and subrun==%d and event==%d\"%(r,sr,ev))[[\"run\",\"subrun\",\"event\",\n",
    "                                                                         \"n_mu\",\"n_e\",\"n_p_40MeV\",\n",
    "                                                                         \"n_pi0\",\"n_gamma\"]]"
   ]
  },
  {
   "cell_type": "code",
   "execution_count": 64,
   "metadata": {
    "scrolled": false
   },
   "outputs": [],
   "source": [
    "def print_breakdown(df_n,selection_df,selection_label=\"Selection\"):\n",
    "    n_1eNp = 0\n",
    "    n_1e0p = 0\n",
    "    n_1e1p = 0\n",
    "    n_1gNp = 0\n",
    "    n_1g1p = 0\n",
    "    n_1g0p = 0\n",
    "    n_ncpi0 = 0\n",
    "    n_ccpi0 = 0\n",
    "    n_bnbother = 0\n",
    "    n_notfound = 0\n",
    "    for i,ev in selection_df.iterrows():\n",
    "        mct = find_truth(df_n,ev[\"run\"],ev[\"subrun\"],ev[\"event\"])\n",
    "        if(len(mct)==0):\n",
    "            print(\"Error: cannot find run %d, subrun %d, event %d\"%(e[\"run\"],e[\"subrun\"],e[\"event\"]))\n",
    "            n_notfound+=1\n",
    "            continue;\n",
    "        mct = mct.iloc[0]\n",
    "        if(mct[\"n_e\"]>0):\n",
    "            if(mct[\"n_p_40MeV\"]>0): \n",
    "                n_1eNp+=1\n",
    "                if(mct[\"n_p_40MeV\"]==1): n_1e1p+=1\n",
    "            elif(mct[\"n_p_40MeV\"]==0): \n",
    "                n_1e0p+=1\n",
    "        elif(mct[\"n_gamma\"]>0):\n",
    "            if(mct[\"n_p_40MeV\"]>0): \n",
    "                n_1gNp+=1\n",
    "                if(mct[\"n_p_40MeV\"]==1): n_1g1p+=1\n",
    "            elif(mct[\"n_p_40MeV\"]==0): \n",
    "                n_1g0p+=1\n",
    "        elif(mct[\"n_pi0\"]>0):\n",
    "            if(mct[\"n_mu\"]==0): n_ncpi0+=1\n",
    "            if(mct[\"n_mu\"]==1): n_ccpi0+=1\n",
    "        else:\n",
    "            n_bnbother+=1\n",
    "    \n",
    "    print(\"%s Total Events: %d\"%(selection_label,len(selection_df)))\n",
    "    print(\"\\t1e0p: %d, 1e1p: %d, 1eNp (incl. 1e1p): %d\"%(n_1e0p,n_1e1p,n_1eNp))\n",
    "    print(\"\\t1g0p: %d, 1g1p: %d, 1gNp (incl. 1g1p): %d\"%(n_1g0p,n_1g1p,n_1gNp))\n",
    "    print(\"\\tNC pi0: %d, CC pi0: %d\"%(n_ncpi0,n_ccpi0))\n",
    "    print(\"\\tOther BNB: %d\"%n_bnbother)\n"
   ]
  },
  {
   "cell_type": "code",
   "execution_count": 67,
   "metadata": {
    "scrolled": true
   },
   "outputs": [
    {
     "name": "stdout",
     "output_type": "stream",
     "text": [
      "PeLEE 1eNP Selection Total Events: 67\n",
      "\t1e0p: 0, 1e1p: 48, 1eNp (incl. 1e1p): 56\n",
      "\t1g0p: 0, 1g1p: 0, 1gNp (incl. 1g1p): 1\n",
      "\tNC pi0: 4, CC pi0: 2\n",
      "\tOther BNB: 4\n"
     ]
    }
   ],
   "source": [
    "print_breakdown(df_n,pelee_1eNp_df,\"PeLEE 1eNP Selection\")"
   ]
  },
  {
   "cell_type": "code",
   "execution_count": 69,
   "metadata": {
    "scrolled": true
   },
   "outputs": [
    {
     "name": "stdout",
     "output_type": "stream",
     "text": [
      "PeLEE 1e0P Selection Total Events: 28\n",
      "\t1e0p: 7, 1e1p: 9, 1eNp (incl. 1e1p): 9\n",
      "\t1g0p: 0, 1g1p: 0, 1gNp (incl. 1g1p): 0\n",
      "\tNC pi0: 8, CC pi0: 1\n",
      "\tOther BNB: 3\n"
     ]
    }
   ],
   "source": [
    "print_breakdown(df_n,pelee_1e0p_df,\"PeLEE 1e0P Selection\")"
   ]
  },
  {
   "cell_type": "code",
   "execution_count": 70,
   "metadata": {
    "scrolled": true
   },
   "outputs": [
    {
     "name": "stdout",
     "output_type": "stream",
     "text": [
      "DL LEE 1e1P Selection Total Events: 49\n",
      "\t1e0p: 0, 1e1p: 35, 1eNp (incl. 1e1p): 39\n",
      "\t1g0p: 0, 1g1p: 1, 1gNp (incl. 1g1p): 1\n",
      "\tNC pi0: 5, CC pi0: 2\n",
      "\tOther BNB: 2\n"
     ]
    }
   ],
   "source": [
    "print_breakdown(df_n,dl_df,\"DL LEE 1e1P Selection\")"
   ]
  },
  {
   "cell_type": "code",
   "execution_count": null,
   "metadata": {},
   "outputs": [],
   "source": []
  },
  {
   "cell_type": "code",
   "execution_count": null,
   "metadata": {},
   "outputs": [],
   "source": []
  }
 ],
 "metadata": {
  "kernelspec": {
   "display_name": "Python 3",
   "language": "python",
   "name": "python3"
  },
  "language_info": {
   "codemirror_mode": {
    "name": "ipython",
    "version": 3
   },
   "file_extension": ".py",
   "mimetype": "text/x-python",
   "name": "python",
   "nbconvert_exporter": "python",
   "pygments_lexer": "ipython3",
   "version": "3.7.3"
  }
 },
 "nbformat": 4,
 "nbformat_minor": 4
}
