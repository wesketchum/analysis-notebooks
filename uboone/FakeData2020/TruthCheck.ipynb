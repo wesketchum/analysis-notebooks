{
 "cells": [
  {
   "cell_type": "code",
   "execution_count": 1,
   "metadata": {},
   "outputs": [
    {
     "name": "stdout",
     "output_type": "stream",
     "text": [
      "python tools loaded.\n"
     ]
    }
   ],
   "source": [
    "import os, sys\n",
    "sys.path.append(\"../../common/\")\n",
    "from python_tools import *"
   ]
  },
  {
   "cell_type": "code",
   "execution_count": null,
   "metadata": {},
   "outputs": [],
   "source": [
    "#%matplotlib notebook"
   ]
  },
  {
   "cell_type": "code",
   "execution_count": null,
   "metadata": {},
   "outputs": [],
   "source": [
    "TRUTH_DF_FILE = \"/Users/wketchum/Data/MicroBooNE/FakeData2020/Set1/mcana_dfs_25Feb21.h5\"\n",
    "PELEE_1ENP_FILES = [\"/Users/wketchum/Data/MicroBooNE/FakeData2020/PeLEE/fakedata1/data_1eNp_fakedata1.root\"]\n",
    "PELEE_1E0P_FILES = [\"/Users/wketchum/Data/MicroBooNE/FakeData2020/PeLEE/1e0p/prod_uboone_nu2020_fakedata_set1_run1_reco2_v08_00_00_41_reco2_fakedata1_1e0p_BDT_sbnfit.root\",\n",
    "                    \"/Users/wketchum/Data/MicroBooNE/FakeData2020/PeLEE/1e0p/prod_uboone_nu2020_fakedata_set1_run3b_reco2_v08_00_00_41_reco2_fakedata1_1e0p_BDT_sbnfit.root\"]\n",
    "DLLEE_FILES = [\"/Users/wketchum/Data/MicroBooNE/FakeData2020/DLeLEE/sel1e1p_fakedata_set1_run1_eventlist.txt\",\n",
    "               \"/Users/wketchum/Data/MicroBooNE/FakeData2020/DLeLEE/sel1e1p_fakedata_set1_run3_eventlist.txt\"]\n",
    "GLEE_1G1P_FILES = [\"/Users/wketchum/Data/MicroBooNE/FakeData2020/gLEE/sbnfit_1g1pMar2020_v4_stage_6_FakeDataRedo1.root\"]\n",
    "GLEE_1G0P_FILES = [\"/Users/wketchum/Data/MicroBooNE/FakeData2020/gLEE/sbnfit_1g0pMar2020_stage_4_FakeDataRedo1.root\"]\n",
    "WCLEE_FILES = [\"/Users/wketchum/Data/MicroBooNE/FakeData2020/WCeLEE/fakeset1run1_nueCC_WireCell.list\",\n",
    "               \"/Users/wketchum/Data/MicroBooNE/FakeData2020/WCeLEE/fakeset1run3_nueCC_WireCell.list\"]\n",
    "WCCCPI0_Files = [\"/Users/wketchum/Data/MicroBooNE/FakeData2020/WCeLEE/ccpi0_RSE_fakeset1run1.txt\",\n",
    "                 \"/Users/wketchum/Data/MicroBooNE/FakeData2020/WCeLEE/ccpi0_RSE_fakeset1run3.txt\"]"
   ]
  },
  {
   "cell_type": "code",
   "execution_count": null,
   "metadata": {},
   "outputs": [],
   "source": [
    "#DLLEE_FILES = [\"/Users/wketchum/Data/MicroBooNE/FakeData2020/DLeLEE/sel1e1p_withoutPostBDTCuts_fakedata_set1.txt\"]"
   ]
  },
  {
   "cell_type": "code",
   "execution_count": null,
   "metadata": {},
   "outputs": [],
   "source": [
    "TRUTH_DF_FILE = \"/Users/wketchum/Data/MicroBooNE/FakeData2020/Set2/mcana_dfs_25Feb21.h5\"\n",
    "PELEE_1ENP_FILES = [\"/Users/wketchum/Data/MicroBooNE/FakeData2020/PeLEE/fakedata2/data_1eNp_fakedata2.root\"]\n",
    "PELEE_1E0P_FILES = [\"/Users/wketchum/Data/MicroBooNE/FakeData2020/PeLEE/1e0p/prod_uboone_nu2020_fakedata_set2_run1_reco2_v08_00_00_41_reco2_fakedata1_1e0p_BDT_sbnfit.root\",\n",
    "                    \"/Users/wketchum/Data/MicroBooNE/FakeData2020/PeLEE/1e0p/prod_uboone_nu2020_fakedata_set2_run3b_reco2_v08_00_00_41_reco2_fakedata1_1e0p_BDT_sbnfit.root\"]\n",
    "#DLLEE_FILES = [\"/Users/wketchum/Data/MicroBooNE/FakeData2020/DLeLEE/sel1e1p_fakedata_set2_run1_eventlist.txt\",\n",
    "#               \"/Users/wketchum/Data/MicroBooNE/FakeData2020/DLeLEE/sel1e1p_fakedata_set2_run3_eventlist.txt\"]\n",
    "DLLEE_FILES = [\"/Users/wketchum/Data/MicroBooNE/FakeData2020/DLeLEE/run1_dataset2_selected.txt\"]\n",
    "#DLLEE_FILES = [\"/Users/wketchum/Data/MicroBooNE/FakeData2020/DLeLEE/sel1e1p_fakedata_set2_run3_eventlist.txt\"]\n",
    "GLEE_1G1P_FILES = [\"/Users/wketchum/Data/MicroBooNE/FakeData2020/gLEE/sbnfit_1g1pMar2020_v4_stage_6_FakeDataRedo1.root\"]\n",
    "GLEE_1G0P_FILES = [\"/Users/wketchum/Data/MicroBooNE/FakeData2020/gLEE/sbnfit_1g0pMar2020_stage_4_FakeDataRedo1.root\"]\n",
    "WCLEE_FILES = [\"/Users/wketchum/Data/MicroBooNE/FakeData2020/WCeLEE/fakeset1run1_nueCC_WireCell.list\",\n",
    "               \"/Users/wketchum/Data/MicroBooNE/FakeData2020/WCeLEE/fakeset1run3_nueCC_WireCell.list\"]\n",
    "WCCCPI0_Files = [\"/Users/wketchum/Data/MicroBooNE/FakeData2020/WCeLEE/ccpi0_RSE_fakeset1run1.txt\",\n",
    "                 \"/Users/wketchum/Data/MicroBooNE/FakeData2020/WCeLEE/ccpi0_RSE_fakeset1run3.txt\"]"
   ]
  },
  {
   "cell_type": "code",
   "execution_count": null,
   "metadata": {},
   "outputs": [],
   "source": [
    "DLLEE_FILES = [\"/Users/wketchum/Data/MicroBooNE/FakeData2020/DLeLEE/sel1e1p_withoutPostBDTCuts_fakedata_set2.txt\"]"
   ]
  },
  {
   "cell_type": "code",
   "execution_count": null,
   "metadata": {},
   "outputs": [],
   "source": [
    "TRUTH_DF_FILE = \"/Users/wketchum/Data/MicroBooNE/FakeData2020/Set4/mcana_dfs_25Feb21.h5\"\n",
    "DLLEE_FILES_1E1P_SET4_RUN1 = [\"/Users/wketchum/Data/MicroBooNE/FakeData2020/DLeLEE/sel1e1p_fakedata_set4_run1_eventlist.txt\"]\n",
    "DLLEE_FILES_1E1P_SET4_RUN3 = [\"/Users/wketchum/Data/MicroBooNE/FakeData2020/DLeLEE/sel1e1p_fakedata_set4_run3_eventlist.txt\"]\n",
    "DLLEE_FILES_1MU1P_SET4_RUN1 = [\"/Users/wketchum/Data/MicroBooNE/FakeData2020/DLeLEE/sel1mu1p_fakedata_set4_run1_eventlist.txt\"]\n",
    "DLLEE_FILES_1MU1P_SET4_RUN3 = [\"/Users/wketchum/Data/MicroBooNE/FakeData2020/DLeLEE/sel1mu1p_fakedata_set4_run3_eventlist.txt\"]\n",
    "\n",
    "PELEE_1ENP_FILES = [\"/Users/wketchum/Data/MicroBooNE/FakeData2020/PeLEE/fakedata4/data_1eNp_fakedata4.root\"]\n",
    "PELEE_1E0P_FILES = [\"/Users/wketchum/Data/MicroBooNE/FakeData2020/PeLEE/fakedata4/data_1e0p_fakedata4.root\"]"
   ]
  },
  {
   "cell_type": "code",
   "execution_count": null,
   "metadata": {},
   "outputs": [],
   "source": [
    "TRUTH_DF_FILE = \"/Users/wketchum/Data/MicroBooNE/FakeData2020/Set5/mcana_dfs_25Feb21.h5\"\n",
    "DLLEE_FILES_1E1P_SET5_RUN1 = [\"/Users/wketchum/Data/MicroBooNE/FakeData2020/DLeLEE/sel1e1p_fakedata_set5_run1_eventlist.txt\"]\n",
    "DLLEE_FILES_1MU1P_SET5_RUN1 = [\"/Users/wketchum/Data/MicroBooNE/FakeData2020/DLeLEE/sel1mu1p_fakedata_set5_run1_eventlist.txt\"]\n",
    "\n",
    "\n",
    "PELEE_1ENP_FILES = [\"/Users/wketchum/Data/MicroBooNE/FakeData2020/PeLEE/fakedata5/data_1eNp_fakedata5.root\"]\n",
    "PELEE_1E0P_FILES = [\"/Users/wketchum/Data/MicroBooNE/FakeData2020/PeLEE/fakedata5/data_1e0p_fakedata5.root\"]\n",
    "GLEE_1G0P_FILES = [\"/Users/wketchum/Data/MicroBooNE/FakeData2020/gLEE/1g0p.FinalSelection.FakeSet5.RSE.list\"]\n"
   ]
  },
  {
   "cell_type": "code",
   "execution_count": 2,
   "metadata": {},
   "outputs": [],
   "source": [
    "TRUTH_DF_FILE = \"/Users/wketchum/Data/MicroBooNE/FakeData2020/Set7/mcana_dfs_25Feb21.h5\"\n",
    "DLLEE_FILES_1E1P_SET5_RUN1 = [\"/Users/wketchum/Data/MicroBooNE/FakeData2020/DLeLEE/sel1e1p_fakedata_set5_run1_eventlist.txt\"]\n",
    "DLLEE_FILES_1MU1P_SET5_RUN1 = [\"/Users/wketchum/Data/MicroBooNE/FakeData2020/DLeLEE/sel1mu1p_fakedata_set5_run1_eventlist.txt\"]\n",
    "\n",
    "\n",
    "PELEE_1ENP_FILES = [\"/Users/wketchum/Data/MicroBooNE/FakeData2020/PeLEE/fakedata5/data_1eNp_fakedata5.root\"]\n",
    "PELEE_1E0P_FILES = [\"/Users/wketchum/Data/MicroBooNE/FakeData2020/PeLEE/fakedata5/data_1e0p_fakedata5.root\"]\n",
    "GLEE_1G0P_FILES = [\"/Users/wketchum/Data/MicroBooNE/FakeData2020/gLEE/1g0p.FinalSelection.FakeSet5.RSE.list\"]\n",
    "GLEE_ANDREW_FILES = [\"/Users/wketchum/Data/MicroBooNE/FakeData2020/gLEE/passing_run_subrun_event_fakedata_set7_costhetapi0_fwdbin_stage_2.txt\"]"
   ]
  },
  {
   "cell_type": "code",
   "execution_count": null,
   "metadata": {},
   "outputs": [],
   "source": [
    "TRUTH_DF_FILE = \"/Users/wketchum/Data/MicroBooNE/FakeData2020/Set3/mcana_dfs_25Feb21.h5\"\n",
    "PELEE_1ENP_FILES = [\"/Users/wketchum/Data/MicroBooNE/FakeData2020/PeLEE/fakedata3/data_1eNp_fakedata3.root\"]\n",
    "PELEE_1E0P_FILES = [\"/Users/wketchum/Data/MicroBooNE/FakeData2020/PeLEE/1e0p/prod_uboone_nu2020_fakedata_set3_run1_reco2_v08_00_00_41_reco2_fakedata1_1e0p_BDT_sbnfit.root\",\n",
    "                    \"/Users/wketchum/Data/MicroBooNE/FakeData2020/PeLEE/1e0p/prod_uboone_nu2020_fakedata_set3_run3b_reco2_v08_00_00_41_reco2_fakedata1_1e0p_BDT_sbnfit.root\"]\n",
    "DLLEE_FILES = [\"/Users/wketchum/Data/MicroBooNE/FakeData2020/DLeLEE/sel1e1p_fakedata_set3_run1_eventlist.txt\",\n",
    "               \"/Users/wketchum/Data/MicroBooNE/FakeData2020/DLeLEE/sel1e1p_fakedata_set3_run3_eventlist.txt\"]\n",
    "#DLLEE_FILES = [\"/Users/wketchum/Data/MicroBooNE/FakeData2020/DLeLEE/sel1e1p_fakedata_set3_run3_eventlist.txt\"]\n",
    "GLEE_1G1P_FILES = [\"/Users/wketchum/Data/MicroBooNE/FakeData2020/gLEE/sbnfit_1g1pMar2020_v4_stage_6_FakeDataRedo1.root\"]\n",
    "GLEE_1G0P_FILES = [\"/Users/wketchum/Data/MicroBooNE/FakeData2020/gLEE/sbnfit_1g0pMar2020_stage_4_FakeDataRedo1.root\"]\n",
    "WCLEE_FILES = [\"/Users/wketchum/Data/MicroBooNE/FakeData2020/WCeLEE/fakeset1run1_nueCC_WireCell.list\",\n",
    "               \"/Users/wketchum/Data/MicroBooNE/FakeData2020/WCeLEE/fakeset1run3_nueCC_WireCell.list\"]\n",
    "WCCCPI0_Files = [\"/Users/wketchum/Data/MicroBooNE/FakeData2020/WCeLEE/ccpi0_RSE_fakeset1run1.txt\",\n",
    "                 \"/Users/wketchum/Data/MicroBooNE/FakeData2020/WCeLEE/ccpi0_RSE_fakeset1run3.txt\"]"
   ]
  },
  {
   "cell_type": "code",
   "execution_count": null,
   "metadata": {},
   "outputs": [],
   "source": [
    "TRUTH_DF_FILE = \"/Users/wketchum/Data/MicroBooNE/FakeData2020/Set5/mcana_dfs.h5\"\n",
    "WCLEE_FILES = [\"/Users/wketchum/Data/MicroBooNE/FakeData2020/WCeLEE/fakeset5_nueCC_WireCell.list\"]\n",
    "#WCCCPI0_Files = [\"/Users/wketchum/Data/MicroBooNE/FakeData2020/WCeLEE/ccpi0_RSE_fakeset1run1.txt\",\n",
    "#                 \"/Users/wketchum/Data/MicroBooNE/FakeData2020/WCeLEE/ccpi0_RSE_fakeset1run3.txt\"]"
   ]
  },
  {
   "cell_type": "code",
   "execution_count": null,
   "metadata": {},
   "outputs": [],
   "source": [
    "GLEE_1G1P_FILES = [\"/Users/wketchum/Data/MicroBooNE/FakeData2020/gLEE/FakeSet5_1g1p_stage6.RSE\"]"
   ]
  },
  {
   "cell_type": "code",
   "execution_count": null,
   "metadata": {},
   "outputs": [],
   "source": [
    "DLLEE_FILES = [\"/Users/wketchum/Data/MicroBooNE/FakeData2020/DLeLEE/sel1e1p_withoutPostBDTCuts_fakedata_set3.txt\"]\n",
    "DLLEE_FILES = [\"/Users/wketchum/Data/MicroBooNE/FakeData2020/DLeLEE/sel1mu1p_fakedata_set3_run3_eventlist.txt\"]"
   ]
  },
  {
   "cell_type": "code",
   "execution_count": 3,
   "metadata": {},
   "outputs": [
    {
     "name": "stdout",
     "output_type": "stream",
     "text": [
      "362890\n"
     ]
    }
   ],
   "source": [
    "df_n = pd.read_hdf(TRUTH_DF_FILE,\"ev_df\")\n",
    "#df_n = df_n.reset_index()\n",
    "#df_n = df_n.astype({\"run\":\"int64\",\"subrun\":\"int64\",\"event\":\"int64\"})\n",
    "df_n = df_n.sort_index()\n",
    "print(len(df_n))"
   ]
  },
  {
   "cell_type": "code",
   "execution_count": 4,
   "metadata": {},
   "outputs": [
    {
     "ename": "KeyError",
     "evalue": "'No object named id_df in the file'",
     "output_type": "error",
     "traceback": [
      "\u001b[0;31m---------------------------------------------------------------------------\u001b[0m",
      "\u001b[0;31mKeyError\u001b[0m                                  Traceback (most recent call last)",
      "\u001b[0;32m<ipython-input-4-f3e92796bacd>\u001b[0m in \u001b[0;36m<module>\u001b[0;34m\u001b[0m\n\u001b[0;32m----> 1\u001b[0;31m \u001b[0mdf_id\u001b[0m \u001b[0;34m=\u001b[0m \u001b[0mpd\u001b[0m\u001b[0;34m.\u001b[0m\u001b[0mread_hdf\u001b[0m\u001b[0;34m(\u001b[0m\u001b[0mTRUTH_DF_FILE\u001b[0m\u001b[0;34m,\u001b[0m\u001b[0;34m\"id_df\"\u001b[0m\u001b[0;34m)\u001b[0m\u001b[0;34m\u001b[0m\u001b[0;34m\u001b[0m\u001b[0m\n\u001b[0m",
      "\u001b[0;32m/Library/Python/3.8/site-packages/pandas/io/pytables.py\u001b[0m in \u001b[0;36mread_hdf\u001b[0;34m(path_or_buf, key, mode, errors, where, start, stop, columns, iterator, chunksize, **kwargs)\u001b[0m\n\u001b[1;32m    413\u001b[0m                     )\n\u001b[1;32m    414\u001b[0m             \u001b[0mkey\u001b[0m \u001b[0;34m=\u001b[0m \u001b[0mcandidate_only_group\u001b[0m\u001b[0;34m.\u001b[0m\u001b[0m_v_pathname\u001b[0m\u001b[0;34m\u001b[0m\u001b[0;34m\u001b[0m\u001b[0m\n\u001b[0;32m--> 415\u001b[0;31m         return store.select(\n\u001b[0m\u001b[1;32m    416\u001b[0m             \u001b[0mkey\u001b[0m\u001b[0;34m,\u001b[0m\u001b[0;34m\u001b[0m\u001b[0;34m\u001b[0m\u001b[0m\n\u001b[1;32m    417\u001b[0m             \u001b[0mwhere\u001b[0m\u001b[0;34m=\u001b[0m\u001b[0mwhere\u001b[0m\u001b[0;34m,\u001b[0m\u001b[0;34m\u001b[0m\u001b[0;34m\u001b[0m\u001b[0m\n",
      "\u001b[0;32m/Library/Python/3.8/site-packages/pandas/io/pytables.py\u001b[0m in \u001b[0;36mselect\u001b[0;34m(self, key, where, start, stop, columns, iterator, chunksize, auto_close)\u001b[0m\n\u001b[1;32m    840\u001b[0m         \u001b[0mgroup\u001b[0m \u001b[0;34m=\u001b[0m \u001b[0mself\u001b[0m\u001b[0;34m.\u001b[0m\u001b[0mget_node\u001b[0m\u001b[0;34m(\u001b[0m\u001b[0mkey\u001b[0m\u001b[0;34m)\u001b[0m\u001b[0;34m\u001b[0m\u001b[0;34m\u001b[0m\u001b[0m\n\u001b[1;32m    841\u001b[0m         \u001b[0;32mif\u001b[0m \u001b[0mgroup\u001b[0m \u001b[0;32mis\u001b[0m \u001b[0;32mNone\u001b[0m\u001b[0;34m:\u001b[0m\u001b[0;34m\u001b[0m\u001b[0;34m\u001b[0m\u001b[0m\n\u001b[0;32m--> 842\u001b[0;31m             \u001b[0;32mraise\u001b[0m \u001b[0mKeyError\u001b[0m\u001b[0;34m(\u001b[0m\u001b[0;34mf\"No object named {key} in the file\"\u001b[0m\u001b[0;34m)\u001b[0m\u001b[0;34m\u001b[0m\u001b[0;34m\u001b[0m\u001b[0m\n\u001b[0m\u001b[1;32m    843\u001b[0m \u001b[0;34m\u001b[0m\u001b[0m\n\u001b[1;32m    844\u001b[0m         \u001b[0;31m# create the storer and axes\u001b[0m\u001b[0;34m\u001b[0m\u001b[0;34m\u001b[0m\u001b[0;34m\u001b[0m\u001b[0m\n",
      "\u001b[0;31mKeyError\u001b[0m: 'No object named id_df in the file'"
     ]
    }
   ],
   "source": [
    "df_id = pd.read_hdf(TRUTH_DF_FILE,\"id_df\")"
   ]
  },
  {
   "cell_type": "code",
   "execution_count": null,
   "metadata": {},
   "outputs": [],
   "source": [
    "df_id.set_index([\"run_new\",\"subrun_new\",\"event_new\"],inplace=True)"
   ]
  },
  {
   "cell_type": "code",
   "execution_count": 5,
   "metadata": {},
   "outputs": [
    {
     "data": {
      "text/html": [
       "<div>\n",
       "<style scoped>\n",
       "    .dataframe tbody tr th:only-of-type {\n",
       "        vertical-align: middle;\n",
       "    }\n",
       "\n",
       "    .dataframe tbody tr th {\n",
       "        vertical-align: top;\n",
       "    }\n",
       "\n",
       "    .dataframe thead th {\n",
       "        text-align: right;\n",
       "    }\n",
       "</style>\n",
       "<table border=\"1\" class=\"dataframe\">\n",
       "  <thead>\n",
       "    <tr style=\"text-align: right;\">\n",
       "      <th></th>\n",
       "      <th></th>\n",
       "      <th></th>\n",
       "      <th></th>\n",
       "      <th>n_particles</th>\n",
       "      <th>origin</th>\n",
       "      <th>mode</th>\n",
       "      <th>interaction_type</th>\n",
       "      <th>ccnc</th>\n",
       "      <th>target</th>\n",
       "      <th>hit_nucl</th>\n",
       "      <th>hit_quark</th>\n",
       "      <th>hadronic_mass</th>\n",
       "      <th>interaction_x</th>\n",
       "      <th>...</th>\n",
       "      <th>end_e_gamma</th>\n",
       "      <th>ke_gamma</th>\n",
       "      <th>n_mu</th>\n",
       "      <th>n_e</th>\n",
       "      <th>n_p_40MeV</th>\n",
       "      <th>n_pi0</th>\n",
       "      <th>n_chpi</th>\n",
       "      <th>n_gamma</th>\n",
       "      <th>costheta_lep</th>\n",
       "      <th>costheta_p1</th>\n",
       "    </tr>\n",
       "    <tr>\n",
       "      <th>run</th>\n",
       "      <th>subrun</th>\n",
       "      <th>event</th>\n",
       "      <th>truth_index</th>\n",
       "      <th></th>\n",
       "      <th></th>\n",
       "      <th></th>\n",
       "      <th></th>\n",
       "      <th></th>\n",
       "      <th></th>\n",
       "      <th></th>\n",
       "      <th></th>\n",
       "      <th></th>\n",
       "      <th></th>\n",
       "      <th></th>\n",
       "      <th></th>\n",
       "      <th></th>\n",
       "      <th></th>\n",
       "      <th></th>\n",
       "      <th></th>\n",
       "      <th></th>\n",
       "      <th></th>\n",
       "      <th></th>\n",
       "      <th></th>\n",
       "      <th></th>\n",
       "    </tr>\n",
       "  </thead>\n",
       "  <tbody>\n",
       "    <tr>\n",
       "      <th rowspan=\"5\" valign=\"top\">37280747</th>\n",
       "      <th rowspan=\"2\" valign=\"top\">1</th>\n",
       "      <th>1</th>\n",
       "      <th>0</th>\n",
       "      <td>9</td>\n",
       "      <td>1</td>\n",
       "      <td>0</td>\n",
       "      <td>1001</td>\n",
       "      <td>0</td>\n",
       "      <td>1000180400</td>\n",
       "      <td>2112</td>\n",
       "      <td>0</td>\n",
       "      <td>1.007580</td>\n",
       "      <td>0.751073</td>\n",
       "      <td>...</td>\n",
       "      <td>NaN</td>\n",
       "      <td>NaN</td>\n",
       "      <td>1.0</td>\n",
       "      <td>0.0</td>\n",
       "      <td>1.0</td>\n",
       "      <td>0.0</td>\n",
       "      <td>0.0</td>\n",
       "      <td>0.0</td>\n",
       "      <td>0.878156</td>\n",
       "      <td>-0.108425</td>\n",
       "    </tr>\n",
       "    <tr>\n",
       "      <th>2</th>\n",
       "      <th>0</th>\n",
       "      <td>23</td>\n",
       "      <td>1</td>\n",
       "      <td>0</td>\n",
       "      <td>1001</td>\n",
       "      <td>0</td>\n",
       "      <td>1000180400</td>\n",
       "      <td>2112</td>\n",
       "      <td>0</td>\n",
       "      <td>1.237545</td>\n",
       "      <td>0.526087</td>\n",
       "      <td>...</td>\n",
       "      <td>NaN</td>\n",
       "      <td>NaN</td>\n",
       "      <td>1.0</td>\n",
       "      <td>0.0</td>\n",
       "      <td>7.0</td>\n",
       "      <td>0.0</td>\n",
       "      <td>0.0</td>\n",
       "      <td>0.0</td>\n",
       "      <td>-0.231414</td>\n",
       "      <td>0.970960</td>\n",
       "    </tr>\n",
       "    <tr>\n",
       "      <th rowspan=\"2\" valign=\"top\">2</th>\n",
       "      <th>1</th>\n",
       "      <th>0</th>\n",
       "      <td>12</td>\n",
       "      <td>1</td>\n",
       "      <td>1</td>\n",
       "      <td>1009</td>\n",
       "      <td>1</td>\n",
       "      <td>1000180400</td>\n",
       "      <td>2112</td>\n",
       "      <td>0</td>\n",
       "      <td>1.091582</td>\n",
       "      <td>0.341449</td>\n",
       "      <td>...</td>\n",
       "      <td>NaN</td>\n",
       "      <td>NaN</td>\n",
       "      <td>0.0</td>\n",
       "      <td>0.0</td>\n",
       "      <td>1.0</td>\n",
       "      <td>0.0</td>\n",
       "      <td>1.0</td>\n",
       "      <td>0.0</td>\n",
       "      <td>0.791203</td>\n",
       "      <td>0.780238</td>\n",
       "    </tr>\n",
       "    <tr>\n",
       "      <th>2</th>\n",
       "      <th>0</th>\n",
       "      <td>16</td>\n",
       "      <td>1</td>\n",
       "      <td>10</td>\n",
       "      <td>1000</td>\n",
       "      <td>0</td>\n",
       "      <td>1000280590</td>\n",
       "      <td>2000000201</td>\n",
       "      <td>0</td>\n",
       "      <td>1.253831</td>\n",
       "      <td>0.136794</td>\n",
       "      <td>...</td>\n",
       "      <td>NaN</td>\n",
       "      <td>NaN</td>\n",
       "      <td>1.0</td>\n",
       "      <td>0.0</td>\n",
       "      <td>2.0</td>\n",
       "      <td>0.0</td>\n",
       "      <td>0.0</td>\n",
       "      <td>0.0</td>\n",
       "      <td>0.891407</td>\n",
       "      <td>0.430526</td>\n",
       "    </tr>\n",
       "    <tr>\n",
       "      <th>3</th>\n",
       "      <th>1</th>\n",
       "      <th>0</th>\n",
       "      <td>9</td>\n",
       "      <td>1</td>\n",
       "      <td>0</td>\n",
       "      <td>1001</td>\n",
       "      <td>0</td>\n",
       "      <td>1000180400</td>\n",
       "      <td>2112</td>\n",
       "      <td>0</td>\n",
       "      <td>1.038690</td>\n",
       "      <td>0.209907</td>\n",
       "      <td>...</td>\n",
       "      <td>NaN</td>\n",
       "      <td>NaN</td>\n",
       "      <td>1.0</td>\n",
       "      <td>0.0</td>\n",
       "      <td>0.0</td>\n",
       "      <td>0.0</td>\n",
       "      <td>0.0</td>\n",
       "      <td>0.0</td>\n",
       "      <td>0.981950</td>\n",
       "      <td>-0.238402</td>\n",
       "    </tr>\n",
       "    <tr>\n",
       "      <th>...</th>\n",
       "      <th>...</th>\n",
       "      <th>...</th>\n",
       "      <th>...</th>\n",
       "      <td>...</td>\n",
       "      <td>...</td>\n",
       "      <td>...</td>\n",
       "      <td>...</td>\n",
       "      <td>...</td>\n",
       "      <td>...</td>\n",
       "      <td>...</td>\n",
       "      <td>...</td>\n",
       "      <td>...</td>\n",
       "      <td>...</td>\n",
       "      <td>...</td>\n",
       "      <td>...</td>\n",
       "      <td>...</td>\n",
       "      <td>...</td>\n",
       "      <td>...</td>\n",
       "      <td>...</td>\n",
       "      <td>...</td>\n",
       "      <td>...</td>\n",
       "      <td>...</td>\n",
       "      <td>...</td>\n",
       "      <td>...</td>\n",
       "    </tr>\n",
       "    <tr>\n",
       "      <th rowspan=\"5\" valign=\"top\">38051898</th>\n",
       "      <th rowspan=\"5\" valign=\"top\">1106</th>\n",
       "      <th>21</th>\n",
       "      <th>0</th>\n",
       "      <td>12</td>\n",
       "      <td>1</td>\n",
       "      <td>1</td>\n",
       "      <td>1003</td>\n",
       "      <td>0</td>\n",
       "      <td>1000180400</td>\n",
       "      <td>2212</td>\n",
       "      <td>0</td>\n",
       "      <td>1.219653</td>\n",
       "      <td>0.170274</td>\n",
       "      <td>...</td>\n",
       "      <td>NaN</td>\n",
       "      <td>NaN</td>\n",
       "      <td>1.0</td>\n",
       "      <td>0.0</td>\n",
       "      <td>0.0</td>\n",
       "      <td>1.0</td>\n",
       "      <td>0.0</td>\n",
       "      <td>0.0</td>\n",
       "      <td>0.892713</td>\n",
       "      <td>0.840470</td>\n",
       "    </tr>\n",
       "    <tr>\n",
       "      <th>22</th>\n",
       "      <th>0</th>\n",
       "      <td>26</td>\n",
       "      <td>1</td>\n",
       "      <td>1</td>\n",
       "      <td>1000</td>\n",
       "      <td>0</td>\n",
       "      <td>1000180400</td>\n",
       "      <td>2112</td>\n",
       "      <td>0</td>\n",
       "      <td>1.492649</td>\n",
       "      <td>0.265956</td>\n",
       "      <td>...</td>\n",
       "      <td>NaN</td>\n",
       "      <td>NaN</td>\n",
       "      <td>1.0</td>\n",
       "      <td>0.0</td>\n",
       "      <td>2.0</td>\n",
       "      <td>1.0</td>\n",
       "      <td>1.0</td>\n",
       "      <td>0.0</td>\n",
       "      <td>0.521293</td>\n",
       "      <td>-0.165937</td>\n",
       "    </tr>\n",
       "    <tr>\n",
       "      <th>23</th>\n",
       "      <th>0</th>\n",
       "      <td>11</td>\n",
       "      <td>1</td>\n",
       "      <td>0</td>\n",
       "      <td>1002</td>\n",
       "      <td>1</td>\n",
       "      <td>1000180400</td>\n",
       "      <td>2112</td>\n",
       "      <td>0</td>\n",
       "      <td>0.874138</td>\n",
       "      <td>1.193271</td>\n",
       "      <td>...</td>\n",
       "      <td>NaN</td>\n",
       "      <td>NaN</td>\n",
       "      <td>0.0</td>\n",
       "      <td>0.0</td>\n",
       "      <td>1.0</td>\n",
       "      <td>0.0</td>\n",
       "      <td>0.0</td>\n",
       "      <td>0.0</td>\n",
       "      <td>0.577987</td>\n",
       "      <td>0.665791</td>\n",
       "    </tr>\n",
       "    <tr>\n",
       "      <th>24</th>\n",
       "      <th>0</th>\n",
       "      <td>12</td>\n",
       "      <td>1</td>\n",
       "      <td>0</td>\n",
       "      <td>1001</td>\n",
       "      <td>0</td>\n",
       "      <td>1000180400</td>\n",
       "      <td>2112</td>\n",
       "      <td>0</td>\n",
       "      <td>0.985615</td>\n",
       "      <td>0.392947</td>\n",
       "      <td>...</td>\n",
       "      <td>NaN</td>\n",
       "      <td>NaN</td>\n",
       "      <td>1.0</td>\n",
       "      <td>0.0</td>\n",
       "      <td>0.0</td>\n",
       "      <td>0.0</td>\n",
       "      <td>0.0</td>\n",
       "      <td>0.0</td>\n",
       "      <td>0.364637</td>\n",
       "      <td>NaN</td>\n",
       "    </tr>\n",
       "    <tr>\n",
       "      <th>25</th>\n",
       "      <th>0</th>\n",
       "      <td>11</td>\n",
       "      <td>1</td>\n",
       "      <td>10</td>\n",
       "      <td>1000</td>\n",
       "      <td>0</td>\n",
       "      <td>1000180400</td>\n",
       "      <td>2000000200</td>\n",
       "      <td>0</td>\n",
       "      <td>1.031145</td>\n",
       "      <td>0.691452</td>\n",
       "      <td>...</td>\n",
       "      <td>NaN</td>\n",
       "      <td>NaN</td>\n",
       "      <td>1.0</td>\n",
       "      <td>0.0</td>\n",
       "      <td>1.0</td>\n",
       "      <td>0.0</td>\n",
       "      <td>0.0</td>\n",
       "      <td>0.0</td>\n",
       "      <td>0.727665</td>\n",
       "      <td>0.878484</td>\n",
       "    </tr>\n",
       "  </tbody>\n",
       "</table>\n",
       "<p>362890 rows × 246 columns</p>\n",
       "</div>"
      ],
      "text/plain": [
       "                                   n_particles  origin  mode  \\\n",
       "run      subrun event truth_index                              \n",
       "37280747 1      1     0                      9       1     0   \n",
       "                2     0                     23       1     0   \n",
       "         2      1     0                     12       1     1   \n",
       "                2     0                     16       1    10   \n",
       "         3      1     0                      9       1     0   \n",
       "...                                        ...     ...   ...   \n",
       "38051898 1106   21    0                     12       1     1   \n",
       "                22    0                     26       1     1   \n",
       "                23    0                     11       1     0   \n",
       "                24    0                     12       1     0   \n",
       "                25    0                     11       1    10   \n",
       "\n",
       "                                   interaction_type  ccnc      target  \\\n",
       "run      subrun event truth_index                                       \n",
       "37280747 1      1     0                        1001     0  1000180400   \n",
       "                2     0                        1001     0  1000180400   \n",
       "         2      1     0                        1009     1  1000180400   \n",
       "                2     0                        1000     0  1000280590   \n",
       "         3      1     0                        1001     0  1000180400   \n",
       "...                                             ...   ...         ...   \n",
       "38051898 1106   21    0                        1003     0  1000180400   \n",
       "                22    0                        1000     0  1000180400   \n",
       "                23    0                        1002     1  1000180400   \n",
       "                24    0                        1001     0  1000180400   \n",
       "                25    0                        1000     0  1000180400   \n",
       "\n",
       "                                     hit_nucl  hit_quark  hadronic_mass  \\\n",
       "run      subrun event truth_index                                         \n",
       "37280747 1      1     0                  2112          0       1.007580   \n",
       "                2     0                  2112          0       1.237545   \n",
       "         2      1     0                  2112          0       1.091582   \n",
       "                2     0            2000000201          0       1.253831   \n",
       "         3      1     0                  2112          0       1.038690   \n",
       "...                                       ...        ...            ...   \n",
       "38051898 1106   21    0                  2212          0       1.219653   \n",
       "                22    0                  2112          0       1.492649   \n",
       "                23    0                  2112          0       0.874138   \n",
       "                24    0                  2112          0       0.985615   \n",
       "                25    0            2000000200          0       1.031145   \n",
       "\n",
       "                                   interaction_x  ...  end_e_gamma  ke_gamma  \\\n",
       "run      subrun event truth_index                 ...                          \n",
       "37280747 1      1     0                 0.751073  ...          NaN       NaN   \n",
       "                2     0                 0.526087  ...          NaN       NaN   \n",
       "         2      1     0                 0.341449  ...          NaN       NaN   \n",
       "                2     0                 0.136794  ...          NaN       NaN   \n",
       "         3      1     0                 0.209907  ...          NaN       NaN   \n",
       "...                                          ...  ...          ...       ...   \n",
       "38051898 1106   21    0                 0.170274  ...          NaN       NaN   \n",
       "                22    0                 0.265956  ...          NaN       NaN   \n",
       "                23    0                 1.193271  ...          NaN       NaN   \n",
       "                24    0                 0.392947  ...          NaN       NaN   \n",
       "                25    0                 0.691452  ...          NaN       NaN   \n",
       "\n",
       "                                   n_mu  n_e  n_p_40MeV  n_pi0  n_chpi  \\\n",
       "run      subrun event truth_index                                        \n",
       "37280747 1      1     0             1.0  0.0        1.0    0.0     0.0   \n",
       "                2     0             1.0  0.0        7.0    0.0     0.0   \n",
       "         2      1     0             0.0  0.0        1.0    0.0     1.0   \n",
       "                2     0             1.0  0.0        2.0    0.0     0.0   \n",
       "         3      1     0             1.0  0.0        0.0    0.0     0.0   \n",
       "...                                 ...  ...        ...    ...     ...   \n",
       "38051898 1106   21    0             1.0  0.0        0.0    1.0     0.0   \n",
       "                22    0             1.0  0.0        2.0    1.0     1.0   \n",
       "                23    0             0.0  0.0        1.0    0.0     0.0   \n",
       "                24    0             1.0  0.0        0.0    0.0     0.0   \n",
       "                25    0             1.0  0.0        1.0    0.0     0.0   \n",
       "\n",
       "                                   n_gamma costheta_lep costheta_p1  \n",
       "run      subrun event truth_index                                    \n",
       "37280747 1      1     0                0.0     0.878156   -0.108425  \n",
       "                2     0                0.0    -0.231414    0.970960  \n",
       "         2      1     0                0.0     0.791203    0.780238  \n",
       "                2     0                0.0     0.891407    0.430526  \n",
       "         3      1     0                0.0     0.981950   -0.238402  \n",
       "...                                    ...          ...         ...  \n",
       "38051898 1106   21    0                0.0     0.892713    0.840470  \n",
       "                22    0                0.0     0.521293   -0.165937  \n",
       "                23    0                0.0     0.577987    0.665791  \n",
       "                24    0                0.0     0.364637         NaN  \n",
       "                25    0                0.0     0.727665    0.878484  \n",
       "\n",
       "[362890 rows x 246 columns]"
      ]
     },
     "execution_count": 5,
     "metadata": {},
     "output_type": "execute_result"
    }
   ],
   "source": [
    "df_n"
   ]
  },
  {
   "cell_type": "code",
   "execution_count": null,
   "metadata": {},
   "outputs": [],
   "source": [
    "pelee_1eNp_df = pd.concat([uproot.open(f)[\"NeutrinoSelectionFilter\"].pandas.df() for f in PELEE_1ENP_FILES])\n",
    "pelee_1e0p_df = pd.concat([uproot.open(f)[\"NeutrinoSelectionFilter\"].pandas.df() for f in PELEE_1E0P_FILES])\n",
    "pelee_1eNp_df = pelee_1eNp_df.rename(columns={\"sub\":\"subrun\",\"evt\":\"event\"})\n",
    "pelee_1e0p_df = pelee_1e0p_df.rename(columns={\"sub\":\"subrun\",\"evt\":\"event\"})"
   ]
  },
  {
   "cell_type": "code",
   "execution_count": null,
   "metadata": {},
   "outputs": [],
   "source": [
    "pelee_1e0p_df"
   ]
  },
  {
   "cell_type": "code",
   "execution_count": null,
   "metadata": {},
   "outputs": [],
   "source": [
    "dl_df_1e1p_set4_run1 = pd.concat([pd.read_csv(f) for f in DLLEE_FILES_1E1P_SET4_RUN1])\n",
    "dl_df_1e1p_set4_run3 = pd.concat([pd.read_csv(f) for f in DLLEE_FILES_1E1P_SET4_RUN3])\n",
    "dl_df_1mu1p_set4_run1 = pd.concat([pd.read_csv(f) for f in DLLEE_FILES_1MU1P_SET4_RUN1])\n",
    "dl_df_1mu1p_set4_run3 = pd.concat([pd.read_csv(f) for f in DLLEE_FILES_1MU1P_SET4_RUN3])"
   ]
  },
  {
   "cell_type": "code",
   "execution_count": null,
   "metadata": {},
   "outputs": [],
   "source": [
    "dl_df_1e1p_set5_run1 = pd.concat([pd.read_csv(f) for f in DLLEE_FILES_1E1P_SET5_RUN1])\n",
    "dl_df_1mu1p_set5_run1 = pd.concat([pd.read_csv(f) for f in DLLEE_FILES_1MU1P_SET5_RUN1])\n"
   ]
  },
  {
   "cell_type": "code",
   "execution_count": null,
   "metadata": {},
   "outputs": [],
   "source": [
    "dl_df_1mu1p_set5_run1"
   ]
  },
  {
   "cell_type": "code",
   "execution_count": null,
   "metadata": {},
   "outputs": [],
   "source": [
    "wc_df = pd.concat([pd.read_csv(f,sep=\" \") for f in WCLEE_FILES])\n",
    "#wc_ccpi0_df = pd.concat([pd.read_csv(f,sep=\" \") for f in WCCCPI0_Files])"
   ]
  },
  {
   "cell_type": "code",
   "execution_count": null,
   "metadata": {},
   "outputs": [],
   "source": [
    "glee_1g1p_df = pd.concat([uproot.open(f)[\"singlephoton/vertex_tree\"].pandas.df(flatten=False) for f in GLEE_1G1P_FILES])\n",
    "glee_1g0p_df = pd.concat([uproot.open(f)[\"singlephoton/vertex_tree\"].pandas.df(flatten=False) for f in GLEE_1G0P_FILES])\n",
    "glee_1g1p_df = glee_1g1p_df.rename(columns={\"run_number\":\"run\",\"subrun_number\":\"subrun\",\"event_number\":\"event\"})\n",
    "glee_1g0p_df = glee_1g0p_df.rename(columns={\"run_number\":\"run\",\"subrun_number\":\"subrun\",\"event_number\":\"event\"})"
   ]
  },
  {
   "cell_type": "code",
   "execution_count": null,
   "metadata": {},
   "outputs": [],
   "source": [
    "glee_1g1p_df =  pd.concat([pd.read_csv(f,delim_whitespace=True) for f in GLEE_1G1P_FILES])"
   ]
  },
  {
   "cell_type": "code",
   "execution_count": null,
   "metadata": {},
   "outputs": [],
   "source": [
    "glee_1g0p_df =  pd.concat([pd.read_csv(f,delim_whitespace=True) for f in GLEE_1G0P_FILES])"
   ]
  },
  {
   "cell_type": "code",
   "execution_count": 6,
   "metadata": {},
   "outputs": [],
   "source": [
    "glee_andr_df =  pd.concat([pd.read_csv(f,delim_whitespace=True) for f in GLEE_ANDREW_FILES])"
   ]
  },
  {
   "cell_type": "code",
   "execution_count": 7,
   "metadata": {},
   "outputs": [
    {
     "data": {
      "text/html": [
       "<div>\n",
       "<style scoped>\n",
       "    .dataframe tbody tr th:only-of-type {\n",
       "        vertical-align: middle;\n",
       "    }\n",
       "\n",
       "    .dataframe tbody tr th {\n",
       "        vertical-align: top;\n",
       "    }\n",
       "\n",
       "    .dataframe thead th {\n",
       "        text-align: right;\n",
       "    }\n",
       "</style>\n",
       "<table border=\"1\" class=\"dataframe\">\n",
       "  <thead>\n",
       "    <tr style=\"text-align: right;\">\n",
       "      <th></th>\n",
       "      <th>run</th>\n",
       "      <th>subrun</th>\n",
       "      <th>event</th>\n",
       "    </tr>\n",
       "  </thead>\n",
       "  <tbody>\n",
       "    <tr>\n",
       "      <th>0</th>\n",
       "      <td>38051898</td>\n",
       "      <td>63</td>\n",
       "      <td>11</td>\n",
       "    </tr>\n",
       "    <tr>\n",
       "      <th>1</th>\n",
       "      <td>38051898</td>\n",
       "      <td>880</td>\n",
       "      <td>5</td>\n",
       "    </tr>\n",
       "    <tr>\n",
       "      <th>2</th>\n",
       "      <td>38051898</td>\n",
       "      <td>410</td>\n",
       "      <td>12</td>\n",
       "    </tr>\n",
       "    <tr>\n",
       "      <th>3</th>\n",
       "      <td>38051898</td>\n",
       "      <td>1090</td>\n",
       "      <td>13</td>\n",
       "    </tr>\n",
       "    <tr>\n",
       "      <th>4</th>\n",
       "      <td>37280747</td>\n",
       "      <td>3771</td>\n",
       "      <td>12</td>\n",
       "    </tr>\n",
       "    <tr>\n",
       "      <th>...</th>\n",
       "      <td>...</td>\n",
       "      <td>...</td>\n",
       "      <td>...</td>\n",
       "    </tr>\n",
       "    <tr>\n",
       "      <th>106</th>\n",
       "      <td>38017786</td>\n",
       "      <td>8814</td>\n",
       "      <td>11</td>\n",
       "    </tr>\n",
       "    <tr>\n",
       "      <th>107</th>\n",
       "      <td>38017786</td>\n",
       "      <td>6803</td>\n",
       "      <td>9</td>\n",
       "    </tr>\n",
       "    <tr>\n",
       "      <th>108</th>\n",
       "      <td>38017786</td>\n",
       "      <td>2850</td>\n",
       "      <td>15</td>\n",
       "    </tr>\n",
       "    <tr>\n",
       "      <th>109</th>\n",
       "      <td>38017787</td>\n",
       "      <td>1068</td>\n",
       "      <td>21</td>\n",
       "    </tr>\n",
       "    <tr>\n",
       "      <th>110</th>\n",
       "      <td>38017786</td>\n",
       "      <td>8650</td>\n",
       "      <td>1</td>\n",
       "    </tr>\n",
       "  </tbody>\n",
       "</table>\n",
       "<p>111 rows × 3 columns</p>\n",
       "</div>"
      ],
      "text/plain": [
       "          run  subrun  event\n",
       "0    38051898      63     11\n",
       "1    38051898     880      5\n",
       "2    38051898     410     12\n",
       "3    38051898    1090     13\n",
       "4    37280747    3771     12\n",
       "..        ...     ...    ...\n",
       "106  38017786    8814     11\n",
       "107  38017786    6803      9\n",
       "108  38017786    2850     15\n",
       "109  38017787    1068     21\n",
       "110  38017786    8650      1\n",
       "\n",
       "[111 rows x 3 columns]"
      ]
     },
     "execution_count": 7,
     "metadata": {},
     "output_type": "execute_result"
    }
   ],
   "source": [
    "glee_andr_df"
   ]
  },
  {
   "cell_type": "code",
   "execution_count": 9,
   "metadata": {},
   "outputs": [],
   "source": [
    "def find_truth(df_t,r,sr,ev):\n",
    "    mct = 0\n",
    "    found = False\n",
    "    try:\n",
    "        mct = df_t.loc[(r,sr,ev)]\n",
    "        found = True\n",
    "    except:\n",
    "        found = False\n",
    "    return mct,found\n",
    "        \n",
    "#    return df_t.query(\"run==%d and subrun==%d and event==%d\"%(r,sr,ev))#[[\"run\",\"subrun\",\"event\",\n",
    "                                                                       #  \"n_mu\",\"n_e\",\"n_p_40MeV\",\n",
    "                                                                       #  \"n_pi0\",\"n_gamma\",\"e\",\"pdgcode\",\"pdgcode_lep\",\n",
    "                                                                       #  \"mode\",\"interaction_type\",\"ccnc\",\n",
    "                                                                       #  \"start_x\",\"start_y\",\"start_z\"]]"
   ]
  },
  {
   "cell_type": "code",
   "execution_count": 10,
   "metadata": {},
   "outputs": [],
   "source": [
    "def print_line(ev,mct,cls,file=sys.stdout):\n",
    "    print(\"Run %d, Subrun %d, Event %d:  %s\"%(ev[\"run\"],ev[\"subrun\"],ev[\"event\"],cls),file=file)\n",
    "    print(\"\\tPDG_nu=%d, E_nu=%f, vtx_nu=(%f,%f,%f)\"%(mct[\"pdgcode\"],mct[\"e\"],mct[\"start_x\"],mct[\"start_y\"],mct[\"start_z\"]),file=file)\n",
    "    print(\"\\tMode=%d, Int_Type=%d, CCNC=%d\"%(mct[\"mode\"],mct[\"interaction_type\"],mct[\"ccnc\"]),file=file)\n",
    "    print(\"\\tn_p_40=%d\"%mct[\"n_p_40MeV\"],file=file)\n",
    "    print(\"\\tke_p1=%f\"%mct[\"ke_p1\"],file=file)"
   ]
  },
  {
   "cell_type": "code",
   "execution_count": 11,
   "metadata": {
    "scrolled": false
   },
   "outputs": [],
   "source": [
    "def print_breakdown(df_n,selection_df,selection_label=\"Selection\",dl_thresh=False,verbose=True,lep_code=11,write_file=sys.stdout,df_id=None):\n",
    "    n_1eNp = 0\n",
    "    n_1e0p = 0\n",
    "    n_1e1p = 0\n",
    "    n_1eNpi = 0\n",
    "    n_1gNp = 0\n",
    "    n_1g1p = 0\n",
    "    n_1g0p = 0\n",
    "    n_1gNpi = 0\n",
    "    n_ncpi0 = 0\n",
    "    n_ccpi0 = 0\n",
    "    n_cc_other = 0\n",
    "    n_nc_other = 0\n",
    "    n_notfound = 0\n",
    "    \n",
    "    lep_str=\"1e\"\n",
    "    lep_other=13\n",
    "    if lep_code==13:\n",
    "        lep_str=\"1u\"\n",
    "        lep_other=11\n",
    "    \n",
    "    for i,ev in selection_df.iterrows():\n",
    "        mct,err = find_truth(df_n,ev[\"run\"],ev[\"subrun\"],ev[\"event\"])\n",
    "        if(not err):\n",
    "            print(\"Error: cannot find run %d, subrun %d, event %d\"%(ev[\"run\"],ev[\"subrun\"],ev[\"event\"]),\n",
    "                  file=write_file)\n",
    "            n_notfound+=1\n",
    "            if(verbose):\n",
    "                print(\"Run %d, Subrun %d, Event %d: Not found.\"%(ev[\"run\"],ev[\"subrun\"],ev[\"event\"]),\n",
    "                      file=write_file)\n",
    "            continue;\n",
    "        \n",
    "        mct = mct.iloc[0]\n",
    "\n",
    "        orig_str=\"\"\n",
    "        if (df_id is not None):\n",
    "            orig,err = find_truth(df_id,ev[\"run\"],ev[\"subrun\"],ev[\"event\"])\n",
    "            if(not err):\n",
    "                orig_str=\"\\tOriginal run/subrun/event not found.\"\n",
    "            else:\n",
    "                orig_str=\"\\tOriginal Run %d, Subrun %d, Event %d.\"%(orig[\"run_old\"],orig[\"subrun_old\"],orig[\"event_old\"])\n",
    "\n",
    "        \n",
    "        is_Np = (mct[\"n_p_40MeV\"]>0 and mct[\"n_pi0\"]==0 and mct[\"n_chpi\"]==0)\n",
    "        is_1p = (mct[\"n_p_40MeV\"]==1)\n",
    "        is_0p = (mct[\"n_p_40MeV\"]==0 and mct[\"n_pi0\"]==0 and mct[\"n_chpi\"]==0)\n",
    "\n",
    "        if(dl_thresh):\n",
    "            is_Np = (mct[\"ke_p1\"]>0.06 and mct[\"n_pi0\"]==0 and mct[\"n_chpi\"]==0)\n",
    "            is_1p = ((mct[\"ke_p2\"]<0.06 or np.isnan(mct[\"ke_p2\"])) and mct[\"n_pi0\"]==0 and mct[\"n_chpi\"]==0)\n",
    "            is_0p = ((mct[\"n_p_40MeV\"]==0 or mct[\"ke_p1\"]<0.06) and mct[\"n_pi0\"]==0 and mct[\"n_chpi\"]==0)\n",
    "            \n",
    "        if(abs(mct[\"pdgcode_lep\"])==lep_code):\n",
    "            if(is_Np):\n",
    "                n_1eNp+=1\n",
    "                if(is_1p):\n",
    "                    n_1e1p+=1\n",
    "                    if(verbose): print_line(ev,mct,lep_str+\"1p\",file=write_file)\n",
    "                else:\n",
    "                    if(verbose): \n",
    "                        print_line(ev,mct,lep_str+\",>1p (\"+lep_str+\"Mp)\",file=write_file)\n",
    "                        \n",
    "            elif(is_0p): \n",
    "                n_1e0p+=1\n",
    "                if(verbose): print_line(ev,mct,lep_str+\"0p\",file=write_file)\n",
    "            else:\n",
    "                n_1eNpi+=1\n",
    "                if(verbose): print_line(ev,mct,lep_str+\"Npi\",file=write_file)\n",
    "\n",
    "        elif(mct[\"n_gamma\"]==1):\n",
    "            if(is_Np): \n",
    "                n_1gNp+=1\n",
    "                if(is_1p):\n",
    "                    n_1g1p+=1\n",
    "                    if(verbose): print_line(ev,mct,\"1g1p\",file=write_file)\n",
    "                else:\n",
    "                    if(verbose): print_line(ev,mct,\"1g,>1p (1gMp)\",file=write_file)\n",
    "                                  \n",
    "            elif(is_0p): \n",
    "                n_1g0p+=1\n",
    "                if(verbose): print_line(ev,mct,\"1g0p\",file=write_file)\n",
    "            else:\n",
    "                n_1gNpi+=1\n",
    "                if(verbose): print_line(ev,mct,\"1gNpi\",file=write_file)\n",
    "                \n",
    "\n",
    "        elif(mct[\"n_pi0\"]>0 or mct[\"n_gamma\"]==2):\n",
    "            if(abs(mct[\"pdgcode_lep\"])!=lep_other):\n",
    "                n_ncpi0+=1\n",
    "                if(verbose): print_line(ev,mct,\"NC pi0\",file=write_file)\n",
    "                    \n",
    "            if(abs(mct[\"pdgcode_lep\"])==lep_other):\n",
    "                n_ccpi0+=1\n",
    "                if(verbose): print_line(ev,mct,\"CC pi0\",file=write_file)\n",
    "                    \n",
    "        elif(abs(mct[\"pdgcode_lep\"])==lep_other):\n",
    "            n_cc_other+=1\n",
    "            if(verbose): print_line(ev,mct,\"CC other\",file=write_file)\n",
    "                    \n",
    "        else:\n",
    "            n_nc_other+=1\n",
    "            if(verbose): print_line(ev,mct,\"NC other\",file=write_file)\n",
    "        \n",
    "        if(orig_str):\n",
    "            print(orig_str,file=write_file)\n",
    "    \n",
    "    print(\"%s Total Events: %d\"%(selection_label,len(selection_df)),file=write_file)\n",
    "    print(\"\\t%s0p: %d, %s1p: %d, %sNp (incl. %s1p): %d, %sNpi: %d\"%(lep_str,n_1e0p,\n",
    "                                                                    lep_str,n_1e1p,\n",
    "                                                                    lep_str,lep_str,n_1eNp,\n",
    "                                                                    lep_str,n_1eNpi),file=write_file)\n",
    "    print(\"\\t1g0p: %d, 1g1p: %d, 1gNp (incl. 1g1p): %d, 1gNpi: %d\"%(n_1g0p,n_1g1p,n_1gNp,n_1gNpi),file=write_file)\n",
    "    print(\"\\tNC pi0: %d, CC pi0: %d\"%(n_ncpi0,n_ccpi0),file=write_file)\n",
    "    print(\"\\tOther CC: %d\"%n_cc_other,file=write_file)\n",
    "    print(\"\\tOther NC: %d\"%n_nc_other,file=write_file)\n"
   ]
  },
  {
   "cell_type": "code",
   "execution_count": null,
   "metadata": {
    "scrolled": false
   },
   "outputs": [],
   "source": [
    "with open(\"/Users/wketchum/Data/MicroBooNE/FakeData2020/PeLEE/truth_check_set1_1eNp.txt\",\"w\") as fw:\n",
    "    print_breakdown(df_n,pelee_1eNp_df,\"PeLEE 1eNP Selection\",False,True,write_file=fw)"
   ]
  },
  {
   "cell_type": "code",
   "execution_count": null,
   "metadata": {
    "scrolled": false
   },
   "outputs": [],
   "source": [
    "with open(\"/Users/wketchum/Data/MicroBooNE/FakeData2020/PeLEE/truth_check_set1_1e0p.txt\",\"w\") as fw:\n",
    "    print_breakdown(df_n,pelee_1e0p_df,\"PeLEE 1e0P Selection\",False,True,write_file=fw)"
   ]
  },
  {
   "cell_type": "code",
   "execution_count": null,
   "metadata": {
    "scrolled": false
   },
   "outputs": [],
   "source": [
    "with open(\"/Users/wketchum/Data/MicroBooNE/FakeData2020/PeLEE/truth_check_set2_1eNp.txt\",\"w\") as fw:\n",
    "    print_breakdown(df_n,pelee_1eNp_df,\"PeLEE 1eNP Selection\",False,True,write_file=fw)"
   ]
  },
  {
   "cell_type": "code",
   "execution_count": null,
   "metadata": {
    "scrolled": false
   },
   "outputs": [],
   "source": [
    "with open(\"/Users/wketchum/Data/MicroBooNE/FakeData2020/PeLEE/truth_check_set2_1e0p.txt\",\"w\") as fw:\n",
    "    print_breakdown(df_n,pelee_1e0p_df,\"PeLEE 1e0P Selection\",False,True,write_file=fw)"
   ]
  },
  {
   "cell_type": "code",
   "execution_count": null,
   "metadata": {
    "scrolled": false
   },
   "outputs": [],
   "source": [
    "with open(\"/Users/wketchum/Data/MicroBooNE/FakeData2020/PeLEE/truth_check_set3_1eNp.txt\",\"w\") as fw:\n",
    "    print_breakdown(df_n,pelee_1eNp_df,\"PeLEE 1eNP Selection\",False,True,write_file=fw)"
   ]
  },
  {
   "cell_type": "code",
   "execution_count": null,
   "metadata": {
    "scrolled": false
   },
   "outputs": [],
   "source": [
    "with open(\"/Users/wketchum/Data/MicroBooNE/FakeData2020/PeLEE/truth_check_set3_1e0p.txt\",\"w\") as fw:\n",
    "    print_breakdown(df_n,pelee_1e0p_df,\"PeLEE 1e0P Selection\",False,True,write_file=fw)"
   ]
  },
  {
   "cell_type": "code",
   "execution_count": null,
   "metadata": {
    "scrolled": false
   },
   "outputs": [],
   "source": [
    "with open(\"/Users/wketchum/Data/MicroBooNE/FakeData2020/PeLEE/truth_check_set5_1eNp.txt\",\"w\") as fw:\n",
    "    print_breakdown(df_n,pelee_1eNp_df,\"PeLEE 1eNP Selection\",False,True,write_file=fw)"
   ]
  },
  {
   "cell_type": "code",
   "execution_count": null,
   "metadata": {
    "scrolled": false
   },
   "outputs": [],
   "source": [
    "with open(\"/Users/wketchum/Data/MicroBooNE/FakeData2020/PeLEE/truth_check_set5_1e0p.txt\",\"w\") as fw:\n",
    "    print_breakdown(df_n,pelee_1e0p_df,\"PeLEE 1e0P Selection\",False,True,write_file=fw)"
   ]
  },
  {
   "cell_type": "code",
   "execution_count": null,
   "metadata": {},
   "outputs": [],
   "source": [
    "#set 2, run1\n",
    "print_breakdown(df_n.loc[([32043865,32043925,32043990],)],dl_df,\"DL LEE 1e1P Selection\",True,True,lep_code=11,write_file=sys.stdout,df_id=df_id)"
   ]
  },
  {
   "cell_type": "code",
   "execution_count": null,
   "metadata": {},
   "outputs": [],
   "source": [
    "#set 3, run3\n",
    "print_breakdown(df_n.loc[([31873900,7265654,7265677],)],dl_df,\"DL LEE 1e1P Selection\",dl_thresh=True,verbose=True,df_id=df_id)"
   ]
  },
  {
   "cell_type": "code",
   "execution_count": null,
   "metadata": {
    "scrolled": false
   },
   "outputs": [],
   "source": [
    "with open(\"/Users/wketchum/Data/MicroBooNE/FakeData2020/DLeLEE/truth_check_set4_run1_1e1p.txt\",\"w\") as fw:\n",
    "    print_breakdown(df_n,\n",
    "                    dl_df_1e1p_set4_run1,\n",
    "                    \"DL LEE 1e1P Selection\",\n",
    "                    dl_thresh=True,verbose=True,df_id=df_id,\n",
    "                    write_file=fw)"
   ]
  },
  {
   "cell_type": "code",
   "execution_count": null,
   "metadata": {
    "scrolled": false
   },
   "outputs": [],
   "source": [
    "with open(\"/Users/wketchum/Data/MicroBooNE/FakeData2020/DLeLEE/truth_check_set4_run3_1e1p.txt\",\"w\") as fw:\n",
    "    print_breakdown(df_n,\n",
    "                    dl_df_1e1p_set4_run3,\n",
    "                    \"DL LEE 1e1P Selection\",\n",
    "                    dl_thresh=True,verbose=True,df_id=df_id,\n",
    "                    write_file=fw)"
   ]
  },
  {
   "cell_type": "code",
   "execution_count": null,
   "metadata": {
    "scrolled": false
   },
   "outputs": [],
   "source": [
    "with open(\"/Users/wketchum/Data/MicroBooNE/FakeData2020/DLeLEE/truth_check_set4_run1_1mu1p.txt\",\"w\") as fw:\n",
    "    print_breakdown(df_n,\n",
    "                    dl_df_1mu1p_set4_run1,\n",
    "                    \"DL LEE 1mu1P Selection\",\n",
    "                    dl_thresh=True,verbose=True,df_id=df_id,\n",
    "                    lep_code=13,\n",
    "                    write_file=fw)"
   ]
  },
  {
   "cell_type": "code",
   "execution_count": null,
   "metadata": {
    "scrolled": false
   },
   "outputs": [],
   "source": [
    "with open(\"/Users/wketchum/Data/MicroBooNE/FakeData2020/DLeLEE/truth_check_set4_run3_1mu1p.txt\",\"w\") as fw:\n",
    "    print_breakdown(df_n,\n",
    "                    dl_df_1mu1p_set4_run3,\n",
    "                    \"DL LEE 1mu1P Selection\",\n",
    "                    dl_thresh=True,verbose=True,df_id=df_id,\n",
    "                    lep_code=13,\n",
    "                    write_file=fw)"
   ]
  },
  {
   "cell_type": "code",
   "execution_count": null,
   "metadata": {},
   "outputs": [],
   "source": [
    "with open(\"/Users/wketchum/Data/MicroBooNE/FakeData2020/DLeLEE/truth_check_set5_run1_1mu1p.txt\",\"w\") as fw:\n",
    "    print_breakdown(df_n,\n",
    "                    dl_df_1mu1p_set5_run1,\n",
    "                    \"DL LEE 1mu1P Selection\",\n",
    "                    dl_thresh=True,verbose=True,df_id=None,\n",
    "                    lep_code=13,\n",
    "                    write_file=fw)"
   ]
  },
  {
   "cell_type": "code",
   "execution_count": null,
   "metadata": {},
   "outputs": [],
   "source": [
    "with open(\"/Users/wketchum/Data/MicroBooNE/FakeData2020/DLeLEE/truth_check_set5_run1_1e1p.txt\",\"w\") as fw:\n",
    "    print_breakdown(df_n,\n",
    "                    dl_df_1e1p_set5_run1,\n",
    "                    \"DL LEE 1e1P Selection\",\n",
    "                    dl_thresh=True,verbose=True,df_id=None,\n",
    "                    write_file=fw)"
   ]
  },
  {
   "cell_type": "code",
   "execution_count": null,
   "metadata": {
    "scrolled": false
   },
   "outputs": [],
   "source": [
    "fw = open(\"/Users/wketchum/Data/MicroBooNE/FakeData2020/DLeLEE/truth_check_set2_run1_Jan2021_2.txt\",\"w\")\n",
    "print_breakdown(df_n,dl_df,\"DL LEE 1e1P Selection\",True,True,write_file=fw,df_id=df_id)"
   ]
  },
  {
   "cell_type": "code",
   "execution_count": null,
   "metadata": {},
   "outputs": [],
   "source": [
    "fw1 = open(\"/Users/wketchum/Data/MicroBooNE/FakeData2020/DLeLEE/truth_check_set3_1mu1p.txt\",\"w\")\n",
    "print_breakdown(df_n,dl_df,\"DL LEE 1mu1P Selection\",True,True,lep_code=13,write_file=fw1)"
   ]
  },
  {
   "cell_type": "code",
   "execution_count": null,
   "metadata": {},
   "outputs": [],
   "source": [
    "fw.close()"
   ]
  },
  {
   "cell_type": "code",
   "execution_count": null,
   "metadata": {
    "scrolled": false
   },
   "outputs": [],
   "source": [
    "print_breakdown(df_n,glee_1g1p_df,\"gLEE 1g1P Selection\",False)"
   ]
  },
  {
   "cell_type": "code",
   "execution_count": null,
   "metadata": {},
   "outputs": [],
   "source": [
    "print_breakdown(df_n,glee_1g0p_df,\"gLEE 1g0P Selection\",False)"
   ]
  },
  {
   "cell_type": "code",
   "execution_count": null,
   "metadata": {
    "scrolled": false
   },
   "outputs": [],
   "source": [
    "f_wc_set5 = open(\"/Users/wketchum/Data/MicroBooNE/FakeData2020/WCeLEE/truth_check_set5_nueCC.txt\",\"w\")\n",
    "print_breakdown(df_n,wc_df,\"WC eLEE Selection\",False,write_file=f_wc_set5)"
   ]
  },
  {
   "cell_type": "code",
   "execution_count": null,
   "metadata": {},
   "outputs": [],
   "source": [
    "f_wc_set5.close()"
   ]
  },
  {
   "cell_type": "code",
   "execution_count": null,
   "metadata": {},
   "outputs": [],
   "source": [
    "print_breakdown(df_n,wc_ccpi0_df,\"WC CC Pi0 Selection\",False)"
   ]
  },
  {
   "cell_type": "code",
   "execution_count": null,
   "metadata": {},
   "outputs": [],
   "source": [
    "print_breakdown(df_n,pelee_1eNp_df,\"PeLEE 1eNP Selection\",False,False)"
   ]
  },
  {
   "cell_type": "code",
   "execution_count": null,
   "metadata": {},
   "outputs": [],
   "source": []
  },
  {
   "cell_type": "code",
   "execution_count": null,
   "metadata": {},
   "outputs": [],
   "source": [
    "df_n.loc[5151,181,9088][[\"e\",\"pdgcode\"]]"
   ]
  },
  {
   "cell_type": "code",
   "execution_count": null,
   "metadata": {},
   "outputs": [],
   "source": [
    "wc_df"
   ]
  },
  {
   "cell_type": "code",
   "execution_count": null,
   "metadata": {},
   "outputs": [],
   "source": [
    "with open(\"/Users/wketchum/Data/MicroBooNE/FakeData2020/gLEE/truth_check_set5_1g0p.txt\",\"w\") as fw:\n",
    "    print_breakdown(df_n,glee_1g0p_df,\"gLEE 1g0P Selection\",False,True,write_file=fw)"
   ]
  },
  {
   "cell_type": "code",
   "execution_count": 12,
   "metadata": {},
   "outputs": [],
   "source": [
    "with open(\"/Users/wketchum/Data/MicroBooNE/FakeData2020/gLEE/truth_check_set7_andrew.txt\",\"w\") as fw:\n",
    "    print_breakdown(df_n,glee_andr_df,\"gLEE Andrew Selection\",False,True,write_file=fw)"
   ]
  },
  {
   "cell_type": "code",
   "execution_count": null,
   "metadata": {},
   "outputs": [],
   "source": []
  }
 ],
 "metadata": {
  "kernelspec": {
   "display_name": "Python 3",
   "language": "python",
   "name": "python3"
  },
  "language_info": {
   "codemirror_mode": {
    "name": "ipython",
    "version": 3
   },
   "file_extension": ".py",
   "mimetype": "text/x-python",
   "name": "python",
   "nbconvert_exporter": "python",
   "pygments_lexer": "ipython3",
   "version": "3.8.2"
  }
 },
 "nbformat": 4,
 "nbformat_minor": 4
}
