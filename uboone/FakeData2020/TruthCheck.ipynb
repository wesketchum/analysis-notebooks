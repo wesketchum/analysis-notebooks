{
 "cells": [
  {
   "cell_type": "code",
   "execution_count": null,
   "metadata": {},
   "outputs": [],
   "source": [
    "import os, sys\n",
    "sys.path.append(\"../../common/\")\n",
    "from python_tools import *"
   ]
  },
  {
   "cell_type": "code",
   "execution_count": null,
   "metadata": {},
   "outputs": [],
   "source": [
    "#%matplotlib notebook"
   ]
  },
  {
   "cell_type": "code",
   "execution_count": null,
   "metadata": {},
   "outputs": [],
   "source": [
    "TRUTH_DF_FILE = \"/Users/wketchum/Data/MicroBooNE/FakeData2020/Set1/mcana_dfs.h5\"\n",
    "PELEE_1ENP_FILES = [\"/Users/wketchum/Data/MicroBooNE/FakeData2020/PeLEE/fakedata1/data_1eNp_fakedata1.root\"]\n",
    "PELEE_1E0P_FILES = [\"/Users/wketchum/Data/MicroBooNE/FakeData2020/PeLEE/1e0p/prod_uboone_nu2020_fakedata_set1_run1_reco2_v08_00_00_41_reco2_fakedata1_1e0p_BDT_sbnfit.root\",\n",
    "                    \"/Users/wketchum/Data/MicroBooNE/FakeData2020/PeLEE/1e0p/prod_uboone_nu2020_fakedata_set1_run3b_reco2_v08_00_00_41_reco2_fakedata1_1e0p_BDT_sbnfit.root\"]\n",
    "DLLEE_FILES = [\"/Users/wketchum/Data/MicroBooNE/FakeData2020/DLeLEE/sel1e1p_fakedata_set1_run1_eventlist.txt\",\n",
    "               \"/Users/wketchum/Data/MicroBooNE/FakeData2020/DLeLEE/sel1e1p_fakedata_set1_run3_eventlist.txt\"]\n",
    "GLEE_1G1P_FILES = [\"/Users/wketchum/Data/MicroBooNE/FakeData2020/gLEE/sbnfit_1g1pMar2020_v4_stage_6_FakeDataRedo1.root\"]\n",
    "GLEE_1G0P_FILES = [\"/Users/wketchum/Data/MicroBooNE/FakeData2020/gLEE/sbnfit_1g0pMar2020_stage_4_FakeDataRedo1.root\"]\n",
    "WCLEE_FILES = [\"/Users/wketchum/Data/MicroBooNE/FakeData2020/WCeLEE/fakeset1run1_nueCC_WireCell.list\",\n",
    "               \"/Users/wketchum/Data/MicroBooNE/FakeData2020/WCeLEE/fakeset1run3_nueCC_WireCell.list\"]\n",
    "WCCCPI0_Files = [\"/Users/wketchum/Data/MicroBooNE/FakeData2020/WCeLEE/ccpi0_RSE_fakeset1run1.txt\",\n",
    "                 \"/Users/wketchum/Data/MicroBooNE/FakeData2020/WCeLEE/ccpi0_RSE_fakeset1run3.txt\"]"
   ]
  },
  {
   "cell_type": "code",
   "execution_count": null,
   "metadata": {},
   "outputs": [],
   "source": [
    "#DLLEE_FILES = [\"/Users/wketchum/Data/MicroBooNE/FakeData2020/DLeLEE/sel1e1p_withoutPostBDTCuts_fakedata_set1.txt\"]"
   ]
  },
  {
   "cell_type": "code",
   "execution_count": null,
   "metadata": {},
   "outputs": [],
   "source": [
    "TRUTH_DF_FILE = \"/Users/wketchum/Data/MicroBooNE/FakeData2020/Set2/mcana_dfs_Aug18.h5\"\n",
    "PELEE_1ENP_FILES = [\"/Users/wketchum/Data/MicroBooNE/FakeData2020/PeLEE/fakedata2/data_1eNp_fakedata2.root\"]\n",
    "PELEE_1E0P_FILES = [\"/Users/wketchum/Data/MicroBooNE/FakeData2020/PeLEE/1e0p/prod_uboone_nu2020_fakedata_set2_run1_reco2_v08_00_00_41_reco2_fakedata1_1e0p_BDT_sbnfit.root\",\n",
    "                    \"/Users/wketchum/Data/MicroBooNE/FakeData2020/PeLEE/1e0p/prod_uboone_nu2020_fakedata_set2_run3b_reco2_v08_00_00_41_reco2_fakedata1_1e0p_BDT_sbnfit.root\"]\n",
    "DLLEE_FILES = [\"/Users/wketchum/Data/MicroBooNE/FakeData2020/DLeLEE/sel1e1p_fakedata_set2_run1_eventlist.txt\",\n",
    "               \"/Users/wketchum/Data/MicroBooNE/FakeData2020/DLeLEE/sel1e1p_fakedata_set2_run3_eventlist.txt\"]\n",
    "#DLLEE_FILES = [\"/Users/wketchum/Data/MicroBooNE/FakeData2020/DLeLEE/sel1e1p_fakedata_set2_run3_eventlist.txt\"]\n",
    "GLEE_1G1P_FILES = [\"/Users/wketchum/Data/MicroBooNE/FakeData2020/gLEE/sbnfit_1g1pMar2020_v4_stage_6_FakeDataRedo1.root\"]\n",
    "GLEE_1G0P_FILES = [\"/Users/wketchum/Data/MicroBooNE/FakeData2020/gLEE/sbnfit_1g0pMar2020_stage_4_FakeDataRedo1.root\"]\n",
    "WCLEE_FILES = [\"/Users/wketchum/Data/MicroBooNE/FakeData2020/WCeLEE/fakeset1run1_nueCC_WireCell.list\",\n",
    "               \"/Users/wketchum/Data/MicroBooNE/FakeData2020/WCeLEE/fakeset1run3_nueCC_WireCell.list\"]\n",
    "WCCCPI0_Files = [\"/Users/wketchum/Data/MicroBooNE/FakeData2020/WCeLEE/ccpi0_RSE_fakeset1run1.txt\",\n",
    "                 \"/Users/wketchum/Data/MicroBooNE/FakeData2020/WCeLEE/ccpi0_RSE_fakeset1run3.txt\"]"
   ]
  },
  {
   "cell_type": "code",
   "execution_count": null,
   "metadata": {},
   "outputs": [],
   "source": [
    "DLLEE_FILES = [\"/Users/wketchum/Data/MicroBooNE/FakeData2020/DLeLEE/sel1e1p_withoutPostBDTCuts_fakedata_set2.txt\"]"
   ]
  },
  {
   "cell_type": "code",
   "execution_count": 2,
   "metadata": {},
   "outputs": [],
   "source": [
    "TRUTH_DF_FILE = \"/Users/wketchum/Data/MicroBooNE/FakeData2020/Set3/mcana_dfs_Aug18.h5\"\n",
    "PELEE_1ENP_FILES = [\"/Users/wketchum/Data/MicroBooNE/FakeData2020/PeLEE/fakedata3/data_1eNp_fakedata3.root\"]\n",
    "PELEE_1E0P_FILES = [\"/Users/wketchum/Data/MicroBooNE/FakeData2020/PeLEE/1e0p/prod_uboone_nu2020_fakedata_set3_run1_reco2_v08_00_00_41_reco2_fakedata1_1e0p_BDT_sbnfit.root\",\n",
    "                    \"/Users/wketchum/Data/MicroBooNE/FakeData2020/PeLEE/1e0p/prod_uboone_nu2020_fakedata_set3_run3b_reco2_v08_00_00_41_reco2_fakedata1_1e0p_BDT_sbnfit.root\"]\n",
    "DLLEE_FILES = [\"/Users/wketchum/Data/MicroBooNE/FakeData2020/DLeLEE/sel1e1p_fakedata_set3_run1_eventlist.txt\",\n",
    "               \"/Users/wketchum/Data/MicroBooNE/FakeData2020/DLeLEE/sel1e1p_fakedata_set3_run3_eventlist.txt\"]\n",
    "#DLLEE_FILES = [\"/Users/wketchum/Data/MicroBooNE/FakeData2020/DLeLEE/sel1e1p_fakedata_set3_run3_eventlist.txt\"]\n",
    "GLEE_1G1P_FILES = [\"/Users/wketchum/Data/MicroBooNE/FakeData2020/gLEE/sbnfit_1g1pMar2020_v4_stage_6_FakeDataRedo1.root\"]\n",
    "GLEE_1G0P_FILES = [\"/Users/wketchum/Data/MicroBooNE/FakeData2020/gLEE/sbnfit_1g0pMar2020_stage_4_FakeDataRedo1.root\"]\n",
    "WCLEE_FILES = [\"/Users/wketchum/Data/MicroBooNE/FakeData2020/WCeLEE/fakeset1run1_nueCC_WireCell.list\",\n",
    "               \"/Users/wketchum/Data/MicroBooNE/FakeData2020/WCeLEE/fakeset1run3_nueCC_WireCell.list\"]\n",
    "WCCCPI0_Files = [\"/Users/wketchum/Data/MicroBooNE/FakeData2020/WCeLEE/ccpi0_RSE_fakeset1run1.txt\",\n",
    "                 \"/Users/wketchum/Data/MicroBooNE/FakeData2020/WCeLEE/ccpi0_RSE_fakeset1run3.txt\"]"
   ]
  },
  {
   "cell_type": "code",
   "execution_count": 3,
   "metadata": {},
   "outputs": [],
   "source": [
    "DLLEE_FILES = [\"/Users/wketchum/Data/MicroBooNE/FakeData2020/DLeLEE/sel1e1p_withoutPostBDTCuts_fakedata_set3.txt\"]\n",
    "DLLEE_FILES = [\"/Users/wketchum/Data/MicroBooNE/FakeData2020/DLeLEE/sel1mu1p_fakedata_set3_run3_eventlist.txt\"]"
   ]
  },
  {
   "cell_type": "code",
   "execution_count": 4,
   "metadata": {},
   "outputs": [
    {
     "name": "stdout",
     "output_type": "stream",
     "text": [
      "784497\n"
     ]
    }
   ],
   "source": [
    "df_n = pd.read_hdf(TRUTH_DF_FILE,\"ev_df\")\n",
    "#df_n = df_n.reset_index()\n",
    "#df_n = df_n.astype({\"run\":\"int64\",\"subrun\":\"int64\",\"event\":\"int64\"})\n",
    "df_n = df_n.sort_index()\n",
    "print(len(df_n))"
   ]
  },
  {
   "cell_type": "code",
   "execution_count": null,
   "metadata": {},
   "outputs": [],
   "source": [
    "pelee_1eNp_df = pd.concat([uproot.open(f)[\"NeutrinoSelectionFilter\"].pandas.df() for f in PELEE_1ENP_FILES])\n",
    "pelee_1e0p_df = pd.concat([uproot.open(f)[\"NeutrinoSelectionFilter\"].pandas.df() for f in PELEE_1E0P_FILES])\n",
    "pelee_1eNp_df = pelee_1eNp_df.rename(columns={\"sub\":\"subrun\",\"evt\":\"event\"})\n",
    "pelee_1e0p_df = pelee_1e0p_df.rename(columns={\"sub\":\"subrun\",\"evt\":\"event\"})"
   ]
  },
  {
   "cell_type": "code",
   "execution_count": 5,
   "metadata": {},
   "outputs": [],
   "source": [
    "dl_df = pd.concat([pd.read_csv(f) for f in DLLEE_FILES])"
   ]
  },
  {
   "cell_type": "code",
   "execution_count": null,
   "metadata": {},
   "outputs": [],
   "source": [
    "wc_df = pd.concat([pd.read_csv(f,sep=\" \") for f in WCLEE_FILES])\n",
    "wc_ccpi0_df = pd.concat([pd.read_csv(f,sep=\" \") for f in WCCCPI0_Files])"
   ]
  },
  {
   "cell_type": "code",
   "execution_count": null,
   "metadata": {},
   "outputs": [],
   "source": [
    "glee_1g1p_df = pd.concat([uproot.open(f)[\"singlephoton/vertex_tree\"].pandas.df(flatten=False) for f in GLEE_1G1P_FILES])\n",
    "glee_1g0p_df = pd.concat([uproot.open(f)[\"singlephoton/vertex_tree\"].pandas.df(flatten=False) for f in GLEE_1G0P_FILES])\n",
    "glee_1g1p_df = glee_1g1p_df.rename(columns={\"run_number\":\"run\",\"subrun_number\":\"subrun\",\"event_number\":\"event\"})\n",
    "glee_1g0p_df = glee_1g0p_df.rename(columns={\"run_number\":\"run\",\"subrun_number\":\"subrun\",\"event_number\":\"event\"})"
   ]
  },
  {
   "cell_type": "code",
   "execution_count": 6,
   "metadata": {},
   "outputs": [],
   "source": [
    "def find_truth(df_t,r,sr,ev):\n",
    "    mct = 0\n",
    "    found = False\n",
    "    try:\n",
    "        mct = df_t.loc[(r,sr,ev)]\n",
    "        found = True\n",
    "    except:\n",
    "        found = False\n",
    "    return mct,found\n",
    "        \n",
    "#    return df_t.query(\"run==%d and subrun==%d and event==%d\"%(r,sr,ev))#[[\"run\",\"subrun\",\"event\",\n",
    "                                                                       #  \"n_mu\",\"n_e\",\"n_p_40MeV\",\n",
    "                                                                       #  \"n_pi0\",\"n_gamma\",\"e\",\"pdgcode\",\"pdgcode_lep\",\n",
    "                                                                       #  \"mode\",\"interaction_type\",\"ccnc\",\n",
    "                                                                       #  \"start_x\",\"start_y\",\"start_z\"]]"
   ]
  },
  {
   "cell_type": "code",
   "execution_count": 7,
   "metadata": {},
   "outputs": [],
   "source": [
    "def print_line(ev,mct,cls,file=sys.stdout):\n",
    "    print(\"Run %d, Subrun %d, Event %d:  %s\"%(ev[\"run\"],ev[\"subrun\"],ev[\"event\"],cls),file=file)\n",
    "    print(\"\\tPDG_nu=%d, E_nu=%f, vtx_nu=(%f,%f,%f)\"%(mct[\"pdgcode\"],mct[\"e\"],mct[\"start_x\"],mct[\"start_y\"],mct[\"start_z\"]),file=file)\n",
    "    print(\"\\tMode=%d, Int_Type=%d, CCNC=%d\"%(mct[\"mode\"],mct[\"interaction_type\"],mct[\"ccnc\"]),file=file)\n",
    "    print(\"\\tn_p_40=%d\"%mct[\"n_p_40MeV\"],file=file)"
   ]
  },
  {
   "cell_type": "code",
   "execution_count": 10,
   "metadata": {
    "scrolled": false
   },
   "outputs": [],
   "source": [
    "def print_breakdown(df_n,selection_df,selection_label=\"Selection\",dl_thresh=False,verbose=True,lep_code=11,write_file=sys.stdout):\n",
    "    n_1eNp = 0\n",
    "    n_1e0p = 0\n",
    "    n_1e1p = 0\n",
    "    n_1eNpi = 0\n",
    "    n_1gNp = 0\n",
    "    n_1g1p = 0\n",
    "    n_1g0p = 0\n",
    "    n_1gNpi = 0\n",
    "    n_ncpi0 = 0\n",
    "    n_ccpi0 = 0\n",
    "    n_cc_other = 0\n",
    "    n_nc_other = 0\n",
    "    n_notfound = 0\n",
    "    \n",
    "    lep_str=\"1e\"\n",
    "    lep_other=13\n",
    "    if lep_code==13:\n",
    "        lep_str=\"1u\"\n",
    "        lep_other=11\n",
    "    \n",
    "    for i,ev in selection_df.iterrows():\n",
    "        mct,err = find_truth(df_n,ev[\"run\"],ev[\"subrun\"],ev[\"event\"])\n",
    "        if(not err):\n",
    "            print(\"Error: cannot find run %d, subrun %d, event %d\"%(ev[\"run\"],ev[\"subrun\"],ev[\"event\"]),\n",
    "                  file=write_file)\n",
    "            n_notfound+=1\n",
    "            if(verbose):\n",
    "                print(\"Run %d, Subrun %d, Event %d: Not found.\"%(ev[\"run\"],ev[\"subrun\"],ev[\"event\"]),\n",
    "                      file=write_file)\n",
    "            continue;\n",
    "        \n",
    "        mct = mct.iloc[0]\n",
    "        \n",
    "        is_Np = (mct[\"n_p_40MeV\"]>0 and mct[\"n_pi0\"]==0 and mct[\"n_chpi\"]==0)\n",
    "        is_1p = (mct[\"n_p_40MeV\"]==1)\n",
    "        is_0p = (mct[\"n_p_40MeV\"]==0 and mct[\"n_pi0\"]==0 and mct[\"n_chpi\"]==0)\n",
    "\n",
    "        if(dl_thresh):\n",
    "            is_Np = (mct[\"ke_p1\"]>0.06 and mct[\"n_pi0\"]==0 and mct[\"n_chpi\"]==0)\n",
    "            is_1p = ((mct[\"ke_p2\"]<0.06 or np.isnan(mct[\"ke_p2\"])) and mct[\"n_pi0\"]==0 and mct[\"n_chpi\"]==0)\n",
    "            is_0p = ((mct[\"n_p_40MeV\"]==0 or mct[\"ke_p1\"]<0.06) and mct[\"n_pi0\"]==0 and mct[\"n_chpi\"]==0)\n",
    "            \n",
    "        if(abs(mct[\"pdgcode_lep\"])==lep_code):\n",
    "            if(is_Np):\n",
    "                n_1eNp+=1\n",
    "                if(is_1p):\n",
    "                    n_1e1p+=1\n",
    "                    if(verbose): print_line(ev,mct,lep_str+\"1p\",file=write_file)\n",
    "                else:\n",
    "                    if(verbose): \n",
    "                        print_line(ev,mct,lep_str+\",>1p (\"+lep_str+\"Mp)\",file=write_file)\n",
    "                        \n",
    "            elif(is_0p): \n",
    "                n_1e0p+=1\n",
    "                if(verbose): print_line(ev,mct,lep_str+\"0p\",file=write_file)\n",
    "            else:\n",
    "                n_1eNpi+=1\n",
    "                if(verbose): print_line(ev,mct,lep_str+\"Npi\",file=write_file)\n",
    "\n",
    "        elif(mct[\"n_gamma\"]==1):\n",
    "            if(is_Np): \n",
    "                n_1gNp+=1\n",
    "                if(is_1p):\n",
    "                    n_1g1p+=1\n",
    "                    if(verbose): print_line(ev,mct,\"1g1p\",file=write_file)\n",
    "                else:\n",
    "                    if(verbose): print_line(ev,mct,\"1g,>1p (1gMp)\",file=write_file)\n",
    "                                  \n",
    "            elif(is_0p): \n",
    "                n_1g0p+=1\n",
    "                if(verbose): print_line(ev,mct,\"1g0p\",file=write_file)\n",
    "            else:\n",
    "                n_1gNpi+=1\n",
    "                if(verbose): print_line(ev,mct,\"1gNpi\",file=write_file)\n",
    "                \n",
    "\n",
    "        elif(mct[\"n_pi0\"]>0 or mct[\"n_gamma\"]==2):\n",
    "            if(abs(mct[\"pdgcode_lep\"])!=lep_other):\n",
    "                n_ncpi0+=1\n",
    "                if(verbose): print_line(ev,mct,\"NC pi0\",file=write_file)\n",
    "                    \n",
    "            if(abs(mct[\"pdgcode_lep\"])==lep_other):\n",
    "                n_ccpi0+=1\n",
    "                if(verbose): print_line(ev,mct,\"CC pi0\",file=write_file)\n",
    "                    \n",
    "        elif(abs(mct[\"pdgcode_lep\"])==lep_other):\n",
    "            n_cc_other+=1\n",
    "            if(verbose): print_line(ev,mct,\"CC other\",file=write_file)\n",
    "                    \n",
    "        else:\n",
    "            n_nc_other+=1\n",
    "            if(verbose): print_line(ev,mct,\"NC other\",file=write_file)\n",
    "    \n",
    "    print(\"%s Total Events: %d\"%(selection_label,len(selection_df)),file=write_file)\n",
    "    print(\"\\t%s0p: %d, %s1p: %d, %sNp (incl. %s1p): %d, %sNpi: %d\"%(lep_str,n_1e0p,\n",
    "                                                                    lep_str,n_1e1p,\n",
    "                                                                    lep_str,lep_str,n_1eNp,\n",
    "                                                                    lep_str,n_1eNpi),file=write_file)\n",
    "    print(\"\\t1g0p: %d, 1g1p: %d, 1gNp (incl. 1g1p): %d, 1gNpi: %d\"%(n_1g0p,n_1g1p,n_1gNp,n_1gNpi),file=write_file)\n",
    "    print(\"\\tNC pi0: %d, CC pi0: %d\"%(n_ncpi0,n_ccpi0),file=write_file)\n",
    "    print(\"\\tOther CC: %d\"%n_cc_other,file=write_file)\n",
    "    print(\"\\tOther NC: %d\"%n_nc_other,file=write_file)\n"
   ]
  },
  {
   "cell_type": "code",
   "execution_count": null,
   "metadata": {
    "scrolled": false
   },
   "outputs": [],
   "source": [
    "print_breakdown(df_n,pelee_1eNp_df,\"PeLEE 1eNP Selection\",False,True)"
   ]
  },
  {
   "cell_type": "code",
   "execution_count": null,
   "metadata": {
    "scrolled": false
   },
   "outputs": [],
   "source": [
    "print_breakdown(df_n,pelee_1e0p_df,\"PeLEE 1e0P Selection\",False,True)"
   ]
  },
  {
   "cell_type": "code",
   "execution_count": null,
   "metadata": {
    "scrolled": false
   },
   "outputs": [],
   "source": [
    "#set 2, run3\n",
    "print_breakdown(df_n.loc[([32044121,32044041,32044093],)],dl_df,\"DL LEE 1e1P Selection\",True,False)"
   ]
  },
  {
   "cell_type": "code",
   "execution_count": null,
   "metadata": {},
   "outputs": [],
   "source": [
    "#set 3, run3\n",
    "print_breakdown(df_n.loc[([31873900,7265654,7265677],)],dl_df,\"DL LEE 1e1P Selection\",True,True)"
   ]
  },
  {
   "cell_type": "code",
   "execution_count": null,
   "metadata": {
    "scrolled": false
   },
   "outputs": [],
   "source": [
    "fw = open(\"/Users/wketchum/Data/MicroBooNE/FakeData2020/DLeLEE/truth_check_set3.txt\",\"w\")\n",
    "print_breakdown(df_n,dl_df,\"DL LEE 1e1P Selection\",True,True,write_file=fw)"
   ]
  },
  {
   "cell_type": "code",
   "execution_count": 11,
   "metadata": {},
   "outputs": [],
   "source": [
    "fw1 = open(\"/Users/wketchum/Data/MicroBooNE/FakeData2020/DLeLEE/truth_check_set3_1mu1p.txt\",\"w\")\n",
    "print_breakdown(df_n,dl_df,\"DL LEE 1mu1P Selection\",True,True,lep_code=13,write_file=fw1)"
   ]
  },
  {
   "cell_type": "code",
   "execution_count": 12,
   "metadata": {},
   "outputs": [],
   "source": [
    "fw1.close()"
   ]
  },
  {
   "cell_type": "code",
   "execution_count": null,
   "metadata": {},
   "outputs": [],
   "source": [
    "print_breakdown(df_n,glee_1g1p_df,\"gLEE 1g1P Selection\",False)"
   ]
  },
  {
   "cell_type": "code",
   "execution_count": null,
   "metadata": {},
   "outputs": [],
   "source": [
    "print_breakdown(df_n,glee_1g0p_df,\"gLEE 1g0P Selection\",False)"
   ]
  },
  {
   "cell_type": "code",
   "execution_count": null,
   "metadata": {},
   "outputs": [],
   "source": [
    "print_breakdown(df_n,wc_df,\"WC eLEE Selection\",False)"
   ]
  },
  {
   "cell_type": "code",
   "execution_count": null,
   "metadata": {},
   "outputs": [],
   "source": [
    "print_breakdown(df_n,wc_ccpi0_df,\"WC CC Pi0 Selection\",False)"
   ]
  },
  {
   "cell_type": "code",
   "execution_count": null,
   "metadata": {},
   "outputs": [],
   "source": [
    "print_breakdown(df_n,pelee_1eNp_df,\"PeLEE 1eNP Selection\",False,False)"
   ]
  },
  {
   "cell_type": "code",
   "execution_count": null,
   "metadata": {},
   "outputs": [],
   "source": []
  },
  {
   "cell_type": "code",
   "execution_count": null,
   "metadata": {},
   "outputs": [],
   "source": []
  }
 ],
 "metadata": {
  "kernelspec": {
   "display_name": "Python 3",
   "language": "python",
   "name": "python3"
  },
  "language_info": {
   "codemirror_mode": {
    "name": "ipython",
    "version": 3
   },
   "file_extension": ".py",
   "mimetype": "text/x-python",
   "name": "python",
   "nbconvert_exporter": "python",
   "pygments_lexer": "ipython3",
   "version": "3.8.2"
  }
 },
 "nbformat": 4,
 "nbformat_minor": 4
}
