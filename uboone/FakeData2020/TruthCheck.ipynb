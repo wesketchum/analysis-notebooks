{
 "cells": [
  {
   "cell_type": "code",
   "execution_count": 1,
   "metadata": {},
   "outputs": [
    {
     "name": "stdout",
     "output_type": "stream",
     "text": [
      "python tools loaded.\n"
     ]
    }
   ],
   "source": [
    "import os, sys\n",
    "sys.path.append(\"../../common/\")\n",
    "from python_tools import *"
   ]
  },
  {
   "cell_type": "code",
   "execution_count": null,
   "metadata": {},
   "outputs": [],
   "source": [
    "#%matplotlib notebook"
   ]
  },
  {
   "cell_type": "code",
   "execution_count": null,
   "metadata": {},
   "outputs": [],
   "source": [
    "TRUTH_DF_FILE = \"/Users/wketchum/Data/MicroBooNE/FakeData2020/Set1/mcana_dfs.h5\"\n",
    "PELEE_1ENP_FILES = [\"/Users/wketchum/Data/MicroBooNE/FakeData2020/PeLEE/fakedata1/data_1eNp_fakedata1.root\"]\n",
    "PELEE_1E0P_FILES = [\"/Users/wketchum/Data/MicroBooNE/FakeData2020/PeLEE/1e0p/prod_uboone_nu2020_fakedata_set1_run1_reco2_v08_00_00_41_reco2_fakedata1_1e0p_BDT_sbnfit.root\",\n",
    "                    \"/Users/wketchum/Data/MicroBooNE/FakeData2020/PeLEE/1e0p/prod_uboone_nu2020_fakedata_set1_run3b_reco2_v08_00_00_41_reco2_fakedata1_1e0p_BDT_sbnfit.root\"]\n",
    "DLLEE_FILES = [\"/Users/wketchum/Data/MicroBooNE/FakeData2020/DLeLEE/sel1e1p_fakedata_set1_run1_eventlist.txt\",\n",
    "               \"/Users/wketchum/Data/MicroBooNE/FakeData2020/DLeLEE/sel1e1p_fakedata_set1_run3_eventlist.txt\"]\n",
    "GLEE_1G1P_FILES = [\"/Users/wketchum/Data/MicroBooNE/FakeData2020/gLEE/sbnfit_1g1pMar2020_v4_stage_6_FakeDataRedo1.root\"]\n",
    "GLEE_1G0P_FILES = [\"/Users/wketchum/Data/MicroBooNE/FakeData2020/gLEE/sbnfit_1g0pMar2020_stage_4_FakeDataRedo1.root\"]\n",
    "WCLEE_FILES = [\"/Users/wketchum/Data/MicroBooNE/FakeData2020/WCeLEE/fakeset1run1_nueCC_WireCell.list\",\n",
    "               \"/Users/wketchum/Data/MicroBooNE/FakeData2020/WCeLEE/fakeset1run3_nueCC_WireCell.list\"]\n",
    "WCCCPI0_Files = [\"/Users/wketchum/Data/MicroBooNE/FakeData2020/WCeLEE/ccpi0_RSE_fakeset1run1.txt\",\n",
    "                 \"/Users/wketchum/Data/MicroBooNE/FakeData2020/WCeLEE/ccpi0_RSE_fakeset1run3.txt\"]"
   ]
  },
  {
   "cell_type": "code",
   "execution_count": null,
   "metadata": {},
   "outputs": [],
   "source": [
    "#DLLEE_FILES = [\"/Users/wketchum/Data/MicroBooNE/FakeData2020/DLeLEE/sel1e1p_withoutPostBDTCuts_fakedata_set1.txt\"]"
   ]
  },
  {
   "cell_type": "code",
   "execution_count": null,
   "metadata": {},
   "outputs": [],
   "source": [
    "TRUTH_DF_FILE = \"/Users/wketchum/Data/MicroBooNE/FakeData2020/Set2/mcana_dfs_Aug18.h5\"\n",
    "PELEE_1ENP_FILES = [\"/Users/wketchum/Data/MicroBooNE/FakeData2020/PeLEE/fakedata2/data_1eNp_fakedata2.root\"]\n",
    "PELEE_1E0P_FILES = [\"/Users/wketchum/Data/MicroBooNE/FakeData2020/PeLEE/1e0p/prod_uboone_nu2020_fakedata_set2_run1_reco2_v08_00_00_41_reco2_fakedata1_1e0p_BDT_sbnfit.root\",\n",
    "                    \"/Users/wketchum/Data/MicroBooNE/FakeData2020/PeLEE/1e0p/prod_uboone_nu2020_fakedata_set2_run3b_reco2_v08_00_00_41_reco2_fakedata1_1e0p_BDT_sbnfit.root\"]\n",
    "DLLEE_FILES = [\"/Users/wketchum/Data/MicroBooNE/FakeData2020/DLeLEE/sel1e1p_fakedata_set2_run1_eventlist.txt\",\n",
    "               \"/Users/wketchum/Data/MicroBooNE/FakeData2020/DLeLEE/sel1e1p_fakedata_set2_run3_eventlist.txt\"]\n",
    "#DLLEE_FILES = [\"/Users/wketchum/Data/MicroBooNE/FakeData2020/DLeLEE/sel1e1p_fakedata_set2_run3_eventlist.txt\"]\n",
    "GLEE_1G1P_FILES = [\"/Users/wketchum/Data/MicroBooNE/FakeData2020/gLEE/sbnfit_1g1pMar2020_v4_stage_6_FakeDataRedo1.root\"]\n",
    "GLEE_1G0P_FILES = [\"/Users/wketchum/Data/MicroBooNE/FakeData2020/gLEE/sbnfit_1g0pMar2020_stage_4_FakeDataRedo1.root\"]\n",
    "WCLEE_FILES = [\"/Users/wketchum/Data/MicroBooNE/FakeData2020/WCeLEE/fakeset1run1_nueCC_WireCell.list\",\n",
    "               \"/Users/wketchum/Data/MicroBooNE/FakeData2020/WCeLEE/fakeset1run3_nueCC_WireCell.list\"]\n",
    "WCCCPI0_Files = [\"/Users/wketchum/Data/MicroBooNE/FakeData2020/WCeLEE/ccpi0_RSE_fakeset1run1.txt\",\n",
    "                 \"/Users/wketchum/Data/MicroBooNE/FakeData2020/WCeLEE/ccpi0_RSE_fakeset1run3.txt\"]"
   ]
  },
  {
   "cell_type": "code",
   "execution_count": null,
   "metadata": {},
   "outputs": [],
   "source": [
    "DLLEE_FILES = [\"/Users/wketchum/Data/MicroBooNE/FakeData2020/DLeLEE/sel1e1p_withoutPostBDTCuts_fakedata_set2.txt\"]"
   ]
  },
  {
   "cell_type": "code",
   "execution_count": null,
   "metadata": {},
   "outputs": [],
   "source": [
    "TRUTH_DF_FILE = \"/Users/wketchum/Data/MicroBooNE/FakeData2020/Set3/mcana_dfs_Aug18.h5\"\n",
    "PELEE_1ENP_FILES = [\"/Users/wketchum/Data/MicroBooNE/FakeData2020/PeLEE/fakedata3/data_1eNp_fakedata3.root\"]\n",
    "PELEE_1E0P_FILES = [\"/Users/wketchum/Data/MicroBooNE/FakeData2020/PeLEE/1e0p/prod_uboone_nu2020_fakedata_set3_run1_reco2_v08_00_00_41_reco2_fakedata1_1e0p_BDT_sbnfit.root\",\n",
    "                    \"/Users/wketchum/Data/MicroBooNE/FakeData2020/PeLEE/1e0p/prod_uboone_nu2020_fakedata_set3_run3b_reco2_v08_00_00_41_reco2_fakedata1_1e0p_BDT_sbnfit.root\"]\n",
    "DLLEE_FILES = [\"/Users/wketchum/Data/MicroBooNE/FakeData2020/DLeLEE/sel1e1p_fakedata_set3_run1_eventlist.txt\",\n",
    "               \"/Users/wketchum/Data/MicroBooNE/FakeData2020/DLeLEE/sel1e1p_fakedata_set3_run3_eventlist.txt\"]\n",
    "#DLLEE_FILES = [\"/Users/wketchum/Data/MicroBooNE/FakeData2020/DLeLEE/sel1e1p_fakedata_set3_run3_eventlist.txt\"]\n",
    "GLEE_1G1P_FILES = [\"/Users/wketchum/Data/MicroBooNE/FakeData2020/gLEE/sbnfit_1g1pMar2020_v4_stage_6_FakeDataRedo1.root\"]\n",
    "GLEE_1G0P_FILES = [\"/Users/wketchum/Data/MicroBooNE/FakeData2020/gLEE/sbnfit_1g0pMar2020_stage_4_FakeDataRedo1.root\"]\n",
    "WCLEE_FILES = [\"/Users/wketchum/Data/MicroBooNE/FakeData2020/WCeLEE/fakeset1run1_nueCC_WireCell.list\",\n",
    "               \"/Users/wketchum/Data/MicroBooNE/FakeData2020/WCeLEE/fakeset1run3_nueCC_WireCell.list\"]\n",
    "WCCCPI0_Files = [\"/Users/wketchum/Data/MicroBooNE/FakeData2020/WCeLEE/ccpi0_RSE_fakeset1run1.txt\",\n",
    "                 \"/Users/wketchum/Data/MicroBooNE/FakeData2020/WCeLEE/ccpi0_RSE_fakeset1run3.txt\"]"
   ]
  },
  {
   "cell_type": "code",
   "execution_count": 2,
   "metadata": {},
   "outputs": [],
   "source": [
    "TRUTH_DF_FILE = \"/Users/wketchum/Data/MicroBooNE/FakeData2020/Set5/mcana_dfs.h5\"\n",
    "WCLEE_FILES = [\"/Users/wketchum/Data/MicroBooNE/FakeData2020/WCeLEE/fakeset5_nueCC_WireCell.list\"]\n",
    "#WCCCPI0_Files = [\"/Users/wketchum/Data/MicroBooNE/FakeData2020/WCeLEE/ccpi0_RSE_fakeset1run1.txt\",\n",
    "#                 \"/Users/wketchum/Data/MicroBooNE/FakeData2020/WCeLEE/ccpi0_RSE_fakeset1run3.txt\"]"
   ]
  },
  {
   "cell_type": "code",
   "execution_count": 3,
   "metadata": {},
   "outputs": [],
   "source": [
    "GLEE_1G1P_FILES = [\"/Users/wketchum/Data/MicroBooNE/FakeData2020/gLEE/FakeSet5_1g1p_stage6.RSE\"]"
   ]
  },
  {
   "cell_type": "code",
   "execution_count": null,
   "metadata": {},
   "outputs": [],
   "source": [
    "DLLEE_FILES = [\"/Users/wketchum/Data/MicroBooNE/FakeData2020/DLeLEE/sel1e1p_withoutPostBDTCuts_fakedata_set3.txt\"]\n",
    "DLLEE_FILES = [\"/Users/wketchum/Data/MicroBooNE/FakeData2020/DLeLEE/sel1mu1p_fakedata_set3_run3_eventlist.txt\"]"
   ]
  },
  {
   "cell_type": "code",
   "execution_count": 4,
   "metadata": {},
   "outputs": [
    {
     "name": "stdout",
     "output_type": "stream",
     "text": [
      "919638\n"
     ]
    }
   ],
   "source": [
    "df_n = pd.read_hdf(TRUTH_DF_FILE,\"ev_df\")\n",
    "#df_n = df_n.reset_index()\n",
    "#df_n = df_n.astype({\"run\":\"int64\",\"subrun\":\"int64\",\"event\":\"int64\"})\n",
    "df_n = df_n.sort_index()\n",
    "print(len(df_n))"
   ]
  },
  {
   "cell_type": "code",
   "execution_count": null,
   "metadata": {},
   "outputs": [],
   "source": [
    "pelee_1eNp_df = pd.concat([uproot.open(f)[\"NeutrinoSelectionFilter\"].pandas.df() for f in PELEE_1ENP_FILES])\n",
    "pelee_1e0p_df = pd.concat([uproot.open(f)[\"NeutrinoSelectionFilter\"].pandas.df() for f in PELEE_1E0P_FILES])\n",
    "pelee_1eNp_df = pelee_1eNp_df.rename(columns={\"sub\":\"subrun\",\"evt\":\"event\"})\n",
    "pelee_1e0p_df = pelee_1e0p_df.rename(columns={\"sub\":\"subrun\",\"evt\":\"event\"})"
   ]
  },
  {
   "cell_type": "code",
   "execution_count": 5,
   "metadata": {},
   "outputs": [
    {
     "ename": "NameError",
     "evalue": "name 'DLLEE_FILES' is not defined",
     "output_type": "error",
     "traceback": [
      "\u001b[0;31m---------------------------------------------------------------------------\u001b[0m",
      "\u001b[0;31mNameError\u001b[0m                                 Traceback (most recent call last)",
      "\u001b[0;32m<ipython-input-5-c120490cb9f8>\u001b[0m in \u001b[0;36m<module>\u001b[0;34m\u001b[0m\n\u001b[0;32m----> 1\u001b[0;31m \u001b[0mdl_df\u001b[0m \u001b[0;34m=\u001b[0m \u001b[0mpd\u001b[0m\u001b[0;34m.\u001b[0m\u001b[0mconcat\u001b[0m\u001b[0;34m(\u001b[0m\u001b[0;34m[\u001b[0m\u001b[0mpd\u001b[0m\u001b[0;34m.\u001b[0m\u001b[0mread_csv\u001b[0m\u001b[0;34m(\u001b[0m\u001b[0mf\u001b[0m\u001b[0;34m)\u001b[0m \u001b[0;32mfor\u001b[0m \u001b[0mf\u001b[0m \u001b[0;32min\u001b[0m \u001b[0mDLLEE_FILES\u001b[0m\u001b[0;34m]\u001b[0m\u001b[0;34m)\u001b[0m\u001b[0;34m\u001b[0m\u001b[0;34m\u001b[0m\u001b[0m\n\u001b[0m",
      "\u001b[0;31mNameError\u001b[0m: name 'DLLEE_FILES' is not defined"
     ]
    }
   ],
   "source": [
    "dl_df = pd.concat([pd.read_csv(f) for f in DLLEE_FILES])"
   ]
  },
  {
   "cell_type": "code",
   "execution_count": null,
   "metadata": {},
   "outputs": [],
   "source": []
  },
  {
   "cell_type": "code",
   "execution_count": null,
   "metadata": {},
   "outputs": [],
   "source": [
    "wc_df = pd.concat([pd.read_csv(f,sep=\" \") for f in WCLEE_FILES])\n",
    "#wc_ccpi0_df = pd.concat([pd.read_csv(f,sep=\" \") for f in WCCCPI0_Files])"
   ]
  },
  {
   "cell_type": "code",
   "execution_count": null,
   "metadata": {},
   "outputs": [],
   "source": [
    "glee_1g1p_df = pd.concat([uproot.open(f)[\"singlephoton/vertex_tree\"].pandas.df(flatten=False) for f in GLEE_1G1P_FILES])\n",
    "glee_1g0p_df = pd.concat([uproot.open(f)[\"singlephoton/vertex_tree\"].pandas.df(flatten=False) for f in GLEE_1G0P_FILES])\n",
    "glee_1g1p_df = glee_1g1p_df.rename(columns={\"run_number\":\"run\",\"subrun_number\":\"subrun\",\"event_number\":\"event\"})\n",
    "glee_1g0p_df = glee_1g0p_df.rename(columns={\"run_number\":\"run\",\"subrun_number\":\"subrun\",\"event_number\":\"event\"})"
   ]
  },
  {
   "cell_type": "code",
   "execution_count": 14,
   "metadata": {},
   "outputs": [],
   "source": [
    "glee_1g1p_df =  pd.concat([pd.read_csv(f,delim_whitespace=True) for f in GLEE_1G1P_FILES])"
   ]
  },
  {
   "cell_type": "code",
   "execution_count": 15,
   "metadata": {},
   "outputs": [
    {
     "data": {
      "text/html": [
       "<div>\n",
       "<style scoped>\n",
       "    .dataframe tbody tr th:only-of-type {\n",
       "        vertical-align: middle;\n",
       "    }\n",
       "\n",
       "    .dataframe tbody tr th {\n",
       "        vertical-align: top;\n",
       "    }\n",
       "\n",
       "    .dataframe thead th {\n",
       "        text-align: right;\n",
       "    }\n",
       "</style>\n",
       "<table border=\"1\" class=\"dataframe\">\n",
       "  <thead>\n",
       "    <tr style=\"text-align: right;\">\n",
       "      <th></th>\n",
       "      <th>Row</th>\n",
       "      <th>run</th>\n",
       "      <th>subrun</th>\n",
       "      <th>event</th>\n",
       "    </tr>\n",
       "  </thead>\n",
       "  <tbody>\n",
       "    <tr>\n",
       "      <th>0</th>\n",
       "      <td>0</td>\n",
       "      <td>7012</td>\n",
       "      <td>299</td>\n",
       "      <td>14975</td>\n",
       "    </tr>\n",
       "    <tr>\n",
       "      <th>1</th>\n",
       "      <td>1</td>\n",
       "      <td>6782</td>\n",
       "      <td>38</td>\n",
       "      <td>1946</td>\n",
       "    </tr>\n",
       "    <tr>\n",
       "      <th>2</th>\n",
       "      <td>2</td>\n",
       "      <td>6548</td>\n",
       "      <td>109</td>\n",
       "      <td>5452</td>\n",
       "    </tr>\n",
       "    <tr>\n",
       "      <th>3</th>\n",
       "      <td>3</td>\n",
       "      <td>6540</td>\n",
       "      <td>5</td>\n",
       "      <td>254</td>\n",
       "    </tr>\n",
       "    <tr>\n",
       "      <th>4</th>\n",
       "      <td>4</td>\n",
       "      <td>6999</td>\n",
       "      <td>13</td>\n",
       "      <td>669</td>\n",
       "    </tr>\n",
       "    <tr>\n",
       "      <th>...</th>\n",
       "      <td>...</td>\n",
       "      <td>...</td>\n",
       "      <td>...</td>\n",
       "      <td>...</td>\n",
       "    </tr>\n",
       "    <tr>\n",
       "      <th>61</th>\n",
       "      <td>61</td>\n",
       "      <td>7014</td>\n",
       "      <td>1506</td>\n",
       "      <td>75319</td>\n",
       "    </tr>\n",
       "    <tr>\n",
       "      <th>62</th>\n",
       "      <td>62</td>\n",
       "      <td>7013</td>\n",
       "      <td>84</td>\n",
       "      <td>4228</td>\n",
       "    </tr>\n",
       "    <tr>\n",
       "      <th>63</th>\n",
       "      <td>63</td>\n",
       "      <td>7008</td>\n",
       "      <td>296</td>\n",
       "      <td>14819</td>\n",
       "    </tr>\n",
       "    <tr>\n",
       "      <th>64</th>\n",
       "      <td>64</td>\n",
       "      <td>7003</td>\n",
       "      <td>290</td>\n",
       "      <td>14526</td>\n",
       "    </tr>\n",
       "    <tr>\n",
       "      <th>65</th>\n",
       "      <td>65</td>\n",
       "      <td>7004</td>\n",
       "      <td>1630</td>\n",
       "      <td>81501</td>\n",
       "    </tr>\n",
       "  </tbody>\n",
       "</table>\n",
       "<p>66 rows × 4 columns</p>\n",
       "</div>"
      ],
      "text/plain": [
       "    Row   run  subrun  event\n",
       "0     0  7012     299  14975\n",
       "1     1  6782      38   1946\n",
       "2     2  6548     109   5452\n",
       "3     3  6540       5    254\n",
       "4     4  6999      13    669\n",
       "..  ...   ...     ...    ...\n",
       "61   61  7014    1506  75319\n",
       "62   62  7013      84   4228\n",
       "63   63  7008     296  14819\n",
       "64   64  7003     290  14526\n",
       "65   65  7004    1630  81501\n",
       "\n",
       "[66 rows x 4 columns]"
      ]
     },
     "execution_count": 15,
     "metadata": {},
     "output_type": "execute_result"
    }
   ],
   "source": [
    "glee_1g1p_df"
   ]
  },
  {
   "cell_type": "code",
   "execution_count": 16,
   "metadata": {},
   "outputs": [],
   "source": [
    "def find_truth(df_t,r,sr,ev):\n",
    "    mct = 0\n",
    "    found = False\n",
    "    try:\n",
    "        mct = df_t.loc[(r,sr,ev)]\n",
    "        found = True\n",
    "    except:\n",
    "        found = False\n",
    "    return mct,found\n",
    "        \n",
    "#    return df_t.query(\"run==%d and subrun==%d and event==%d\"%(r,sr,ev))#[[\"run\",\"subrun\",\"event\",\n",
    "                                                                       #  \"n_mu\",\"n_e\",\"n_p_40MeV\",\n",
    "                                                                       #  \"n_pi0\",\"n_gamma\",\"e\",\"pdgcode\",\"pdgcode_lep\",\n",
    "                                                                       #  \"mode\",\"interaction_type\",\"ccnc\",\n",
    "                                                                       #  \"start_x\",\"start_y\",\"start_z\"]]"
   ]
  },
  {
   "cell_type": "code",
   "execution_count": 17,
   "metadata": {},
   "outputs": [],
   "source": [
    "def print_line(ev,mct,cls,file=sys.stdout):\n",
    "    print(\"Run %d, Subrun %d, Event %d:  %s\"%(ev[\"run\"],ev[\"subrun\"],ev[\"event\"],cls),file=file)\n",
    "    print(\"\\tPDG_nu=%d, E_nu=%f, vtx_nu=(%f,%f,%f)\"%(mct[\"pdgcode\"],mct[\"e\"],mct[\"start_x\"],mct[\"start_y\"],mct[\"start_z\"]),file=file)\n",
    "    print(\"\\tMode=%d, Int_Type=%d, CCNC=%d\"%(mct[\"mode\"],mct[\"interaction_type\"],mct[\"ccnc\"]),file=file)\n",
    "    print(\"\\tn_p_40=%d\"%mct[\"n_p_40MeV\"],file=file)"
   ]
  },
  {
   "cell_type": "code",
   "execution_count": 18,
   "metadata": {
    "scrolled": false
   },
   "outputs": [],
   "source": [
    "def print_breakdown(df_n,selection_df,selection_label=\"Selection\",dl_thresh=False,verbose=True,lep_code=11,write_file=sys.stdout):\n",
    "    n_1eNp = 0\n",
    "    n_1e0p = 0\n",
    "    n_1e1p = 0\n",
    "    n_1eNpi = 0\n",
    "    n_1gNp = 0\n",
    "    n_1g1p = 0\n",
    "    n_1g0p = 0\n",
    "    n_1gNpi = 0\n",
    "    n_ncpi0 = 0\n",
    "    n_ccpi0 = 0\n",
    "    n_cc_other = 0\n",
    "    n_nc_other = 0\n",
    "    n_notfound = 0\n",
    "    \n",
    "    lep_str=\"1e\"\n",
    "    lep_other=13\n",
    "    if lep_code==13:\n",
    "        lep_str=\"1u\"\n",
    "        lep_other=11\n",
    "    \n",
    "    for i,ev in selection_df.iterrows():\n",
    "        mct,err = find_truth(df_n,ev[\"run\"],ev[\"subrun\"],ev[\"event\"])\n",
    "        if(not err):\n",
    "            print(\"Error: cannot find run %d, subrun %d, event %d\"%(ev[\"run\"],ev[\"subrun\"],ev[\"event\"]),\n",
    "                  file=write_file)\n",
    "            n_notfound+=1\n",
    "            if(verbose):\n",
    "                print(\"Run %d, Subrun %d, Event %d: Not found.\"%(ev[\"run\"],ev[\"subrun\"],ev[\"event\"]),\n",
    "                      file=write_file)\n",
    "            continue;\n",
    "        \n",
    "        mct = mct.iloc[0]\n",
    "        \n",
    "        is_Np = (mct[\"n_p_40MeV\"]>0 and mct[\"n_pi0\"]==0 and mct[\"n_chpi\"]==0)\n",
    "        is_1p = (mct[\"n_p_40MeV\"]==1)\n",
    "        is_0p = (mct[\"n_p_40MeV\"]==0 and mct[\"n_pi0\"]==0 and mct[\"n_chpi\"]==0)\n",
    "\n",
    "        if(dl_thresh):\n",
    "            is_Np = (mct[\"ke_p1\"]>0.06 and mct[\"n_pi0\"]==0 and mct[\"n_chpi\"]==0)\n",
    "            is_1p = ((mct[\"ke_p2\"]<0.06 or np.isnan(mct[\"ke_p2\"])) and mct[\"n_pi0\"]==0 and mct[\"n_chpi\"]==0)\n",
    "            is_0p = ((mct[\"n_p_40MeV\"]==0 or mct[\"ke_p1\"]<0.06) and mct[\"n_pi0\"]==0 and mct[\"n_chpi\"]==0)\n",
    "            \n",
    "        if(abs(mct[\"pdgcode_lep\"])==lep_code):\n",
    "            if(is_Np):\n",
    "                n_1eNp+=1\n",
    "                if(is_1p):\n",
    "                    n_1e1p+=1\n",
    "                    if(verbose): print_line(ev,mct,lep_str+\"1p\",file=write_file)\n",
    "                else:\n",
    "                    if(verbose): \n",
    "                        print_line(ev,mct,lep_str+\",>1p (\"+lep_str+\"Mp)\",file=write_file)\n",
    "                        \n",
    "            elif(is_0p): \n",
    "                n_1e0p+=1\n",
    "                if(verbose): print_line(ev,mct,lep_str+\"0p\",file=write_file)\n",
    "            else:\n",
    "                n_1eNpi+=1\n",
    "                if(verbose): print_line(ev,mct,lep_str+\"Npi\",file=write_file)\n",
    "\n",
    "        elif(mct[\"n_gamma\"]==1):\n",
    "            if(is_Np): \n",
    "                n_1gNp+=1\n",
    "                if(is_1p):\n",
    "                    n_1g1p+=1\n",
    "                    if(verbose): print_line(ev,mct,\"1g1p\",file=write_file)\n",
    "                else:\n",
    "                    if(verbose): print_line(ev,mct,\"1g,>1p (1gMp)\",file=write_file)\n",
    "                                  \n",
    "            elif(is_0p): \n",
    "                n_1g0p+=1\n",
    "                if(verbose): print_line(ev,mct,\"1g0p\",file=write_file)\n",
    "            else:\n",
    "                n_1gNpi+=1\n",
    "                if(verbose): print_line(ev,mct,\"1gNpi\",file=write_file)\n",
    "                \n",
    "\n",
    "        elif(mct[\"n_pi0\"]>0 or mct[\"n_gamma\"]==2):\n",
    "            if(abs(mct[\"pdgcode_lep\"])!=lep_other):\n",
    "                n_ncpi0+=1\n",
    "                if(verbose): print_line(ev,mct,\"NC pi0\",file=write_file)\n",
    "                    \n",
    "            if(abs(mct[\"pdgcode_lep\"])==lep_other):\n",
    "                n_ccpi0+=1\n",
    "                if(verbose): print_line(ev,mct,\"CC pi0\",file=write_file)\n",
    "                    \n",
    "        elif(abs(mct[\"pdgcode_lep\"])==lep_other):\n",
    "            n_cc_other+=1\n",
    "            if(verbose): print_line(ev,mct,\"CC other\",file=write_file)\n",
    "                    \n",
    "        else:\n",
    "            n_nc_other+=1\n",
    "            if(verbose): print_line(ev,mct,\"NC other\",file=write_file)\n",
    "    \n",
    "    print(\"%s Total Events: %d\"%(selection_label,len(selection_df)),file=write_file)\n",
    "    print(\"\\t%s0p: %d, %s1p: %d, %sNp (incl. %s1p): %d, %sNpi: %d\"%(lep_str,n_1e0p,\n",
    "                                                                    lep_str,n_1e1p,\n",
    "                                                                    lep_str,lep_str,n_1eNp,\n",
    "                                                                    lep_str,n_1eNpi),file=write_file)\n",
    "    print(\"\\t1g0p: %d, 1g1p: %d, 1gNp (incl. 1g1p): %d, 1gNpi: %d\"%(n_1g0p,n_1g1p,n_1gNp,n_1gNpi),file=write_file)\n",
    "    print(\"\\tNC pi0: %d, CC pi0: %d\"%(n_ncpi0,n_ccpi0),file=write_file)\n",
    "    print(\"\\tOther CC: %d\"%n_cc_other,file=write_file)\n",
    "    print(\"\\tOther NC: %d\"%n_nc_other,file=write_file)\n"
   ]
  },
  {
   "cell_type": "code",
   "execution_count": null,
   "metadata": {
    "scrolled": false
   },
   "outputs": [],
   "source": [
    "print_breakdown(df_n,pelee_1eNp_df,\"PeLEE 1eNP Selection\",False,True)"
   ]
  },
  {
   "cell_type": "code",
   "execution_count": null,
   "metadata": {
    "scrolled": false
   },
   "outputs": [],
   "source": [
    "print_breakdown(df_n,pelee_1e0p_df,\"PeLEE 1e0P Selection\",False,True)"
   ]
  },
  {
   "cell_type": "code",
   "execution_count": null,
   "metadata": {
    "scrolled": false
   },
   "outputs": [],
   "source": [
    "#set 2, run3\n",
    "print_breakdown(df_n.loc[([32044121,32044041,32044093],)],dl_df,\"DL LEE 1e1P Selection\",True,False)"
   ]
  },
  {
   "cell_type": "code",
   "execution_count": null,
   "metadata": {},
   "outputs": [],
   "source": [
    "#set 3, run3\n",
    "print_breakdown(df_n.loc[([31873900,7265654,7265677],)],dl_df,\"DL LEE 1e1P Selection\",True,True)"
   ]
  },
  {
   "cell_type": "code",
   "execution_count": null,
   "metadata": {
    "scrolled": false
   },
   "outputs": [],
   "source": [
    "fw = open(\"/Users/wketchum/Data/MicroBooNE/FakeData2020/DLeLEE/truth_check_set3.txt\",\"w\")\n",
    "print_breakdown(df_n,dl_df,\"DL LEE 1e1P Selection\",True,True,write_file=fw)"
   ]
  },
  {
   "cell_type": "code",
   "execution_count": null,
   "metadata": {},
   "outputs": [],
   "source": [
    "fw1 = open(\"/Users/wketchum/Data/MicroBooNE/FakeData2020/DLeLEE/truth_check_set3_1mu1p.txt\",\"w\")\n",
    "print_breakdown(df_n,dl_df,\"DL LEE 1mu1P Selection\",True,True,lep_code=13,write_file=fw1)"
   ]
  },
  {
   "cell_type": "code",
   "execution_count": null,
   "metadata": {},
   "outputs": [],
   "source": [
    "fw1.close()"
   ]
  },
  {
   "cell_type": "code",
   "execution_count": 19,
   "metadata": {
    "scrolled": false
   },
   "outputs": [
    {
     "name": "stdout",
     "output_type": "stream",
     "text": [
      "Run 7012, Subrun 299, Event 14975:  NC pi0\n",
      "\tPDG_nu=14, E_nu=1.017422, vtx_nu=(110.463196,-67.807709,40.610794)\n",
      "\tMode=1, Int_Type=1006, CCNC=1\n",
      "\tn_p_40=1\n",
      "Run 6782, Subrun 38, Event 1946:  NC pi0\n",
      "\tPDG_nu=14, E_nu=1.594694, vtx_nu=(250.486298,6.372369,292.048187)\n",
      "\tMode=1, Int_Type=1000, CCNC=1\n",
      "\tn_p_40=1\n",
      "Run 6548, Subrun 109, Event 5452:  NC pi0\n",
      "\tPDG_nu=14, E_nu=1.528219, vtx_nu=(146.286011,34.467720,760.420105)\n",
      "\tMode=1, Int_Type=1008, CCNC=1\n",
      "\tn_p_40=1\n",
      "Run 6540, Subrun 5, Event 254:  NC pi0\n",
      "\tPDG_nu=14, E_nu=0.721493, vtx_nu=(181.618622,-106.774925,92.435768)\n",
      "\tMode=1, Int_Type=1006, CCNC=1\n",
      "\tn_p_40=1\n",
      "Run 6999, Subrun 13, Event 669:  NC pi0\n",
      "\tPDG_nu=14, E_nu=1.073555, vtx_nu=(113.919312,23.325335,918.424011)\n",
      "\tMode=1, Int_Type=1008, CCNC=1\n",
      "\tn_p_40=1\n",
      "Run 5910, Subrun 94, Event 4744:  NC pi0\n",
      "\tPDG_nu=14, E_nu=0.730477, vtx_nu=(60.352283,85.328918,832.663025)\n",
      "\tMode=1, Int_Type=1006, CCNC=1\n",
      "\tn_p_40=1\n",
      "Run 6359, Subrun 30, Event 1550:  NC pi0\n",
      "\tPDG_nu=14, E_nu=1.476688, vtx_nu=(86.906639,-41.004177,915.539917)\n",
      "\tMode=1, Int_Type=1008, CCNC=1\n",
      "\tn_p_40=1\n",
      "Run 7010, Subrun 1452, Event 72627:  1g1p\n",
      "\tPDG_nu=14, E_nu=1.012514, vtx_nu=(145.855499,-56.525345,455.916931)\n",
      "\tMode=1, Int_Type=1000, CCNC=1\n",
      "\tn_p_40=1\n",
      "Run 7011, Subrun 180, Event 9041:  1e1p\n",
      "\tPDG_nu=12, E_nu=0.503799, vtx_nu=(131.474655,90.205795,786.658142)\n",
      "\tMode=0, Int_Type=1001, CCNC=0\n",
      "\tn_p_40=1\n",
      "Run 7012, Subrun 1733, Event 86669:  NC pi0\n",
      "\tPDG_nu=14, E_nu=1.738502, vtx_nu=(235.843399,71.953400,359.819580)\n",
      "\tMode=1, Int_Type=1006, CCNC=1\n",
      "\tn_p_40=2\n",
      "Run 6551, Subrun 154, Event 7708:  NC pi0\n",
      "\tPDG_nu=14, E_nu=0.842180, vtx_nu=(197.554001,-33.264557,913.717346)\n",
      "\tMode=1, Int_Type=1006, CCNC=1\n",
      "\tn_p_40=0\n",
      "Run 6231, Subrun 11, Event 551:  1g1p\n",
      "\tPDG_nu=14, E_nu=1.052675, vtx_nu=(43.850216,3.543488,318.439941)\n",
      "\tMode=1, Int_Type=1000, CCNC=1\n",
      "\tn_p_40=1\n",
      "Run 7008, Subrun 290, Event 14539:  NC pi0\n",
      "\tPDG_nu=14, E_nu=1.924942, vtx_nu=(82.276421,65.317963,260.169525)\n",
      "\tMode=1, Int_Type=1006, CCNC=1\n",
      "\tn_p_40=1\n",
      "Run 7003, Subrun 191, Event 9589:  NC pi0\n",
      "\tPDG_nu=14, E_nu=1.290926, vtx_nu=(1.501764,0.177889,523.064819)\n",
      "\tMode=1, Int_Type=1000, CCNC=1\n",
      "\tn_p_40=1\n",
      "Run 7010, Subrun 713, Event 35687:  NC pi0\n",
      "\tPDG_nu=14, E_nu=1.175373, vtx_nu=(37.411705,48.639267,101.820038)\n",
      "\tMode=1, Int_Type=1008, CCNC=1\n",
      "\tn_p_40=1\n",
      "Run 6922, Subrun 217, Event 10868:  NC pi0\n",
      "\tPDG_nu=14, E_nu=0.971657, vtx_nu=(69.004829,57.698925,780.309082)\n",
      "\tMode=1, Int_Type=1006, CCNC=1\n",
      "\tn_p_40=1\n",
      "Run 6134, Subrun 20, Event 1043:  NC pi0\n",
      "\tPDG_nu=14, E_nu=0.928572, vtx_nu=(199.301895,83.091034,828.205872)\n",
      "\tMode=1, Int_Type=1008, CCNC=1\n",
      "\tn_p_40=1\n",
      "Run 7010, Subrun 848, Event 42430:  1g1p\n",
      "\tPDG_nu=14, E_nu=0.849122, vtx_nu=(18.476463,-18.247295,986.175659)\n",
      "\tMode=1, Int_Type=1000, CCNC=1\n",
      "\tn_p_40=1\n",
      "Run 7001, Subrun 737, Event 36889:  CC other\n",
      "\tPDG_nu=14, E_nu=0.542553, vtx_nu=(101.622612,-90.003937,499.947235)\n",
      "\tMode=10, Int_Type=1000, CCNC=0\n",
      "\tn_p_40=2\n",
      "Run 6859, Subrun 57, Event 2881:  NC pi0\n",
      "\tPDG_nu=-14, E_nu=0.792031, vtx_nu=(177.502594,25.377668,510.855499)\n",
      "\tMode=1, Int_Type=1015, CCNC=1\n",
      "\tn_p_40=1\n",
      "Run 7014, Subrun 899, Event 44976:  NC pi0\n",
      "\tPDG_nu=14, E_nu=1.050836, vtx_nu=(151.999924,-18.268648,236.521378)\n",
      "\tMode=1, Int_Type=1006, CCNC=1\n",
      "\tn_p_40=1\n",
      "Run 6853, Subrun 36, Event 1847:  1g,>1p (1gMp)\n",
      "\tPDG_nu=14, E_nu=0.820718, vtx_nu=(153.835480,-38.574375,159.324387)\n",
      "\tMode=1, Int_Type=1000, CCNC=1\n",
      "\tn_p_40=2\n",
      "Run 6672, Subrun 22, Event 1143:  NC pi0\n",
      "\tPDG_nu=14, E_nu=0.649109, vtx_nu=(176.183350,-14.888355,333.434967)\n",
      "\tMode=1, Int_Type=1007, CCNC=1\n",
      "\tn_p_40=1\n",
      "Run 7012, Subrun 1120, Event 56009:  NC pi0\n",
      "\tPDG_nu=14, E_nu=1.311470, vtx_nu=(133.245773,-52.819199,833.127441)\n",
      "\tMode=1, Int_Type=1006, CCNC=1\n",
      "\tn_p_40=1\n",
      "Run 7004, Subrun 364, Event 18218:  CC pi0\n",
      "\tPDG_nu=14, E_nu=0.771311, vtx_nu=(54.509335,70.649239,72.414597)\n",
      "\tMode=1, Int_Type=1004, CCNC=0\n",
      "\tn_p_40=1\n",
      "Run 7012, Subrun 984, Event 49239:  NC pi0\n",
      "\tPDG_nu=14, E_nu=1.267448, vtx_nu=(172.329330,52.667179,622.437256)\n",
      "\tMode=1, Int_Type=1008, CCNC=1\n",
      "\tn_p_40=1\n",
      "Run 6854, Subrun 4, Event 230:  NC pi0\n",
      "\tPDG_nu=14, E_nu=0.777467, vtx_nu=(29.957523,89.463371,385.415375)\n",
      "\tMode=1, Int_Type=1006, CCNC=1\n",
      "\tn_p_40=1\n",
      "Run 6871, Subrun 115, Event 5780:  NC pi0\n",
      "\tPDG_nu=14, E_nu=0.947214, vtx_nu=(55.445381,-100.479942,137.645782)\n",
      "\tMode=1, Int_Type=1008, CCNC=1\n",
      "\tn_p_40=1\n",
      "Run 6548, Subrun 82, Event 4129:  NC pi0\n",
      "\tPDG_nu=14, E_nu=0.949646, vtx_nu=(148.033752,74.406410,630.126160)\n",
      "\tMode=1, Int_Type=1006, CCNC=1\n",
      "\tn_p_40=1\n",
      "Error: cannot find run 6380, subrun 159, event 7957\n",
      "Run 6380, Subrun 159, Event 7957: Not found.\n",
      "Run 7003, Subrun 768, Event 38401:  NC pi0\n",
      "\tPDG_nu=14, E_nu=0.894194, vtx_nu=(99.010742,-29.596018,617.244446)\n",
      "\tMode=1, Int_Type=1006, CCNC=1\n",
      "\tn_p_40=1\n",
      "Run 7014, Subrun 29, Event 1458:  NC pi0\n",
      "\tPDG_nu=14, E_nu=1.064907, vtx_nu=(87.441811,-106.505203,251.863220)\n",
      "\tMode=1, Int_Type=1006, CCNC=1\n",
      "\tn_p_40=1\n",
      "Run 7004, Subrun 320, Event 16050:  NC pi0\n",
      "\tPDG_nu=14, E_nu=1.278068, vtx_nu=(49.243080,55.354752,393.708038)\n",
      "\tMode=1, Int_Type=1006, CCNC=1\n",
      "\tn_p_40=1\n",
      "Run 6959, Subrun 161, Event 8080:  NC pi0\n",
      "\tPDG_nu=14, E_nu=1.524930, vtx_nu=(128.206253,-75.222321,428.636169)\n",
      "\tMode=1, Int_Type=1006, CCNC=1\n",
      "\tn_p_40=1\n",
      "Run 6482, Subrun 43, Event 2166:  1g1p\n",
      "\tPDG_nu=14, E_nu=0.917975, vtx_nu=(140.798264,-97.509964,149.005569)\n",
      "\tMode=1, Int_Type=1000, CCNC=1\n",
      "\tn_p_40=1\n",
      "Run 7010, Subrun 1550, Event 77535:  NC pi0\n",
      "\tPDG_nu=14, E_nu=1.095379, vtx_nu=(57.067104,-94.771355,291.638580)\n",
      "\tMode=1, Int_Type=1006, CCNC=1\n",
      "\tn_p_40=1\n",
      "Run 6859, Subrun 193, Event 9691:  NC pi0\n",
      "\tPDG_nu=14, E_nu=1.235450, vtx_nu=(168.443039,86.410065,346.599640)\n",
      "\tMode=1, Int_Type=1008, CCNC=1\n",
      "\tn_p_40=1\n",
      "Run 5585, Subrun 34, Event 1750:  1g1p\n",
      "\tPDG_nu=14, E_nu=0.643757, vtx_nu=(172.948074,54.792286,862.641846)\n",
      "\tMode=1, Int_Type=1000, CCNC=1\n",
      "\tn_p_40=1\n",
      "Run 7004, Subrun 308, Event 15445:  NC pi0\n",
      "\tPDG_nu=14, E_nu=0.700637, vtx_nu=(221.623306,79.881714,319.648407)\n",
      "\tMode=1, Int_Type=1006, CCNC=1\n",
      "\tn_p_40=1\n",
      "Run 6639, Subrun 51, Event 2563:  1g1p\n",
      "\tPDG_nu=14, E_nu=1.248396, vtx_nu=(108.236710,-8.283685,529.198914)\n",
      "\tMode=1, Int_Type=1000, CCNC=1\n",
      "\tn_p_40=1\n",
      "Run 7004, Subrun 1478, Event 73920:  1g1p\n",
      "\tPDG_nu=14, E_nu=0.997472, vtx_nu=(77.766472,-39.178459,390.276001)\n",
      "\tMode=1, Int_Type=1000, CCNC=1\n",
      "\tn_p_40=1\n",
      "Run 5060, Subrun 27, Event 1366:  NC pi0\n",
      "\tPDG_nu=14, E_nu=0.871597, vtx_nu=(218.924988,78.246361,473.718872)\n",
      "\tMode=1, Int_Type=1006, CCNC=1\n",
      "\tn_p_40=1\n",
      "Run 6912, Subrun 21, Event 1056:  NC pi0\n",
      "\tPDG_nu=14, E_nu=1.325075, vtx_nu=(233.032791,95.314354,505.305267)\n",
      "\tMode=2, Int_Type=1092, CCNC=1\n",
      "\tn_p_40=1\n",
      "Run 6922, Subrun 130, Event 6512:  NC pi0\n",
      "\tPDG_nu=14, E_nu=1.563555, vtx_nu=(85.280548,-80.248291,230.426559)\n",
      "\tMode=1, Int_Type=1006, CCNC=1\n",
      "\tn_p_40=1\n",
      "Run 6623, Subrun 20, Event 1036:  NC pi0\n",
      "\tPDG_nu=14, E_nu=0.785572, vtx_nu=(113.870766,-107.538300,121.938210)\n",
      "\tMode=1, Int_Type=1008, CCNC=1\n",
      "\tn_p_40=1\n",
      "Run 7014, Subrun 1497, Event 74870:  NC pi0\n",
      "\tPDG_nu=14, E_nu=1.685344, vtx_nu=(195.478973,52.404709,423.714661)\n",
      "\tMode=2, Int_Type=1092, CCNC=1\n",
      "\tn_p_40=1\n",
      "Run 7004, Subrun 1383, Event 69182:  NC pi0\n",
      "\tPDG_nu=14, E_nu=1.088610, vtx_nu=(205.071808,58.163551,924.796814)\n",
      "\tMode=1, Int_Type=1006, CCNC=1\n",
      "\tn_p_40=1\n",
      "Run 6761, Subrun 5, Event 285:  NC pi0\n",
      "\tPDG_nu=14, E_nu=2.092482, vtx_nu=(186.932800,-58.495472,924.481262)\n",
      "\tMode=1, Int_Type=1008, CCNC=1\n",
      "\tn_p_40=0\n",
      "Run 7013, Subrun 109, Event 5462:  NC pi0\n",
      "\tPDG_nu=14, E_nu=1.142166, vtx_nu=(192.945114,51.450096,302.376404)\n",
      "\tMode=1, Int_Type=1008, CCNC=1\n",
      "\tn_p_40=0\n",
      "Run 6639, Subrun 26, Event 1321:  NC pi0\n",
      "\tPDG_nu=14, E_nu=1.268698, vtx_nu=(220.544189,52.206154,370.809967)\n",
      "\tMode=1, Int_Type=1006, CCNC=1\n",
      "\tn_p_40=1\n",
      "Run 6911, Subrun 71, Event 3573:  NC pi0\n",
      "\tPDG_nu=14, E_nu=1.355883, vtx_nu=(121.426407,78.824013,470.099030)\n",
      "\tMode=1, Int_Type=1008, CCNC=1\n",
      "\tn_p_40=0\n",
      "Run 5159, Subrun 5, Event 264:  NC pi0\n",
      "\tPDG_nu=14, E_nu=1.363206, vtx_nu=(176.429138,-86.665108,552.257629)\n",
      "\tMode=1, Int_Type=1009, CCNC=1\n",
      "\tn_p_40=1\n",
      "Run 7004, Subrun 438, Event 21946:  NC pi0\n",
      "\tPDG_nu=14, E_nu=0.969821, vtx_nu=(147.873947,9.251405,736.810425)\n",
      "\tMode=1, Int_Type=1000, CCNC=1\n",
      "\tn_p_40=1\n",
      "Run 7014, Subrun 1256, Event 62825:  NC pi0\n",
      "\tPDG_nu=14, E_nu=1.402657, vtx_nu=(205.054245,-3.275349,721.752441)\n",
      "\tMode=1, Int_Type=1008, CCNC=1\n",
      "\tn_p_40=1\n",
      "Run 7001, Subrun 1189, Event 59458:  1e1p\n",
      "\tPDG_nu=12, E_nu=0.710933, vtx_nu=(145.421707,-99.019173,514.909607)\n",
      "\tMode=10, Int_Type=1000, CCNC=0\n",
      "\tn_p_40=1\n",
      "Run 6564, Subrun 215, Event 10784:  NC pi0\n",
      "\tPDG_nu=14, E_nu=1.503019, vtx_nu=(154.827835,-83.361305,989.800659)\n",
      "\tMode=1, Int_Type=1006, CCNC=1\n",
      "\tn_p_40=1\n",
      "Run 7014, Subrun 777, Event 38889:  NC pi0\n",
      "\tPDG_nu=14, E_nu=1.293036, vtx_nu=(225.965851,-50.921432,754.483398)\n",
      "\tMode=1, Int_Type=1006, CCNC=1\n",
      "\tn_p_40=1\n",
      "Run 6989, Subrun 112, Event 5609:  1e1p\n",
      "\tPDG_nu=12, E_nu=0.416568, vtx_nu=(77.524567,-37.068836,337.582214)\n",
      "\tMode=0, Int_Type=1001, CCNC=0\n",
      "\tn_p_40=1\n",
      "Run 6356, Subrun 109, Event 5468:  NC pi0\n",
      "\tPDG_nu=14, E_nu=0.906604, vtx_nu=(124.583740,-72.096573,914.494385)\n",
      "\tMode=1, Int_Type=1008, CCNC=1\n",
      "\tn_p_40=1\n",
      "Run 7010, Subrun 499, Event 24998:  1g1p\n",
      "\tPDG_nu=14, E_nu=1.593553, vtx_nu=(176.446335,-109.716835,141.827957)\n",
      "\tMode=1, Int_Type=1000, CCNC=0\n",
      "\tn_p_40=1\n",
      "Run 7014, Subrun 1245, Event 62257:  NC pi0\n",
      "\tPDG_nu=14, E_nu=0.912834, vtx_nu=(112.214050,-55.775837,274.367462)\n",
      "\tMode=1, Int_Type=1006, CCNC=1\n",
      "\tn_p_40=1\n",
      "Run 7014, Subrun 1506, Event 75319:  NC pi0\n",
      "\tPDG_nu=14, E_nu=1.332855, vtx_nu=(126.247299,57.983124,297.068054)\n",
      "\tMode=1, Int_Type=1006, CCNC=1\n",
      "\tn_p_40=1\n",
      "Run 7013, Subrun 84, Event 4228:  CC pi0\n",
      "\tPDG_nu=14, E_nu=0.543635, vtx_nu=(77.477753,-79.171951,194.124069)\n",
      "\tMode=1, Int_Type=1004, CCNC=0\n",
      "\tn_p_40=0\n",
      "Run 7008, Subrun 296, Event 14819:  NC pi0\n",
      "\tPDG_nu=14, E_nu=0.745260, vtx_nu=(171.261078,-49.727715,377.896759)\n",
      "\tMode=1, Int_Type=1006, CCNC=1\n",
      "\tn_p_40=1\n",
      "Run 7003, Subrun 290, Event 14526:  NC pi0\n",
      "\tPDG_nu=14, E_nu=1.540175, vtx_nu=(193.338196,4.653802,366.791687)\n",
      "\tMode=1, Int_Type=1008, CCNC=1\n",
      "\tn_p_40=1\n"
     ]
    },
    {
     "name": "stdout",
     "output_type": "stream",
     "text": [
      "Run 7004, Subrun 1630, Event 81501:  NC pi0\n",
      "\tPDG_nu=14, E_nu=1.620561, vtx_nu=(181.677368,4.784016,423.274506)\n",
      "\tMode=1, Int_Type=1006, CCNC=1\n",
      "\tn_p_40=1\n",
      "gLEE 1g1P Selection Total Events: 66\n",
      "\t1e0p: 0, 1e1p: 3, 1eNp (incl. 1e1p): 3, 1eNpi: 0\n",
      "\t1g0p: 0, 1g1p: 8, 1gNp (incl. 1g1p): 9, 1gNpi: 0\n",
      "\tNC pi0: 50, CC pi0: 2\n",
      "\tOther CC: 1\n",
      "\tOther NC: 0\n"
     ]
    }
   ],
   "source": [
    "print_breakdown(df_n,glee_1g1p_df,\"gLEE 1g1P Selection\",False)"
   ]
  },
  {
   "cell_type": "code",
   "execution_count": null,
   "metadata": {},
   "outputs": [],
   "source": [
    "print_breakdown(df_n,glee_1g0p_df,\"gLEE 1g0P Selection\",False)"
   ]
  },
  {
   "cell_type": "code",
   "execution_count": null,
   "metadata": {
    "scrolled": false
   },
   "outputs": [],
   "source": [
    "f_wc_set5 = open(\"/Users/wketchum/Data/MicroBooNE/FakeData2020/WCeLEE/truth_check_set5_nueCC.txt\",\"w\")\n",
    "print_breakdown(df_n,wc_df,\"WC eLEE Selection\",False,write_file=f_wc_set5)"
   ]
  },
  {
   "cell_type": "code",
   "execution_count": null,
   "metadata": {},
   "outputs": [],
   "source": [
    "f_wc_set5.close()"
   ]
  },
  {
   "cell_type": "code",
   "execution_count": null,
   "metadata": {},
   "outputs": [],
   "source": [
    "print_breakdown(df_n,wc_ccpi0_df,\"WC CC Pi0 Selection\",False)"
   ]
  },
  {
   "cell_type": "code",
   "execution_count": null,
   "metadata": {},
   "outputs": [],
   "source": [
    "print_breakdown(df_n,pelee_1eNp_df,\"PeLEE 1eNP Selection\",False,False)"
   ]
  },
  {
   "cell_type": "code",
   "execution_count": null,
   "metadata": {},
   "outputs": [],
   "source": []
  },
  {
   "cell_type": "code",
   "execution_count": null,
   "metadata": {},
   "outputs": [],
   "source": [
    "df_n.loc[5151,181,9088][[\"e\",\"pdgcode\"]]"
   ]
  },
  {
   "cell_type": "code",
   "execution_count": null,
   "metadata": {},
   "outputs": [],
   "source": [
    "wc_df"
   ]
  },
  {
   "cell_type": "code",
   "execution_count": null,
   "metadata": {},
   "outputs": [],
   "source": []
  }
 ],
 "metadata": {
  "kernelspec": {
   "display_name": "Python 3",
   "language": "python",
   "name": "python3"
  },
  "language_info": {
   "codemirror_mode": {
    "name": "ipython",
    "version": 3
   },
   "file_extension": ".py",
   "mimetype": "text/x-python",
   "name": "python",
   "nbconvert_exporter": "python",
   "pygments_lexer": "ipython3",
   "version": "3.8.2"
  }
 },
 "nbformat": 4,
 "nbformat_minor": 4
}
