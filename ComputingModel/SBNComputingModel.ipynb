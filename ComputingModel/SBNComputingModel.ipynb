{
 "cells": [
  {
   "cell_type": "code",
   "execution_count": 67,
   "metadata": {},
   "outputs": [],
   "source": [
    "import numpy as np\n",
    "import copy"
   ]
  },
  {
   "cell_type": "code",
   "execution_count": 85,
   "metadata": {},
   "outputs": [],
   "source": [
    "class Process:\n",
    "    \n",
    "    def set_name(self,name):\n",
    "        self.name = name\n",
    "        \n",
    "    def set_memory_MB(self,memory_MB):\n",
    "        self.memory_MB = memory_MB\n",
    "        \n",
    "    def set_time_s(self,time_s):\n",
    "        self.time_s = time_s\n",
    "        \n",
    "    def set_input_size_MB(self,input_MB):\n",
    "        self.input_size_MB = input_MB\n",
    "        \n",
    "    def set_output_size_MB(self,output_MB):\n",
    "        self.output_size_MB = output_MB\n",
    "    \n",
    "    def set_threads(self,min_threads,max_threads=None):\n",
    "        self.min_threads = min_threads\n",
    "        if max_threads:\n",
    "            self.max_threads = max_threads\n",
    "        else:\n",
    "            self.max_threads = min_threads\n",
    "    \n",
    "    def set_pass_fraction(self,pass_fraction):\n",
    "        self.pass_fraction = pass_fraction\n",
    "        \n",
    "    def set_failure_rate(self,failure_rate):\n",
    "        self.failure_rate = failure_rate\n",
    "    \n",
    "    def __init__(self,\n",
    "                 memory_MB=0,time_s=0,\n",
    "                 input_MB=0,output_MB=0,\n",
    "                 name=\"\",\n",
    "                 min_threads=1,max_threads=None,\n",
    "                 pass_fraction=1.0,\n",
    "                 failure_rate=0.0):\n",
    "\n",
    "        self.set_name(name)\n",
    "        \n",
    "        self.set_memory_MB(memory_MB)\n",
    "        self.set_time_s(time_s)\n",
    "        \n",
    "        self.set_input_size_MB(input_MB)\n",
    "        self.set_output_size_MB(output_MB)\n",
    "        \n",
    "        self.set_threads(min_threads,max_threads)\n",
    "\n",
    "        self.set_pass_fraction(pass_fraction)\n",
    "        self.set_failure_rate(failure_rate)\n",
    "\n",
    "    def __str__(self):\n",
    "        s = \"Process '%s':\"%self.name\n",
    "        s = s+\"\\n\\tMemory (MB): %f\"%self.memory_MB\n",
    "        s = s+\"\\n\\tTime per event (s): %f\"%self.time_s\n",
    "        s = s+\"\\n\\tInput/Output size per event (MB): %f / %f\"%(self.input_size_MB,self.output_size_MB)\n",
    "        s = s+\"\\n\\tThreads used (min,max): (%d,%d)\"%(self.min_threads,self.max_threads)\n",
    "        s = s+\"\\n\\tEvent pass fraction: %f\"%self.pass_fraction\n",
    "        s = s+\"\\n\\tFailure rate: %f\"%self.failure_rate\n",
    "        return s\n",
    "        \n",
    "def ChainProcesses(processes,name=\"\"):\n",
    "    \n",
    "    if len(processes)==0:\n",
    "        print(\"Process list length 0. Return empty Process.\")\n",
    "        return Process()\n",
    "    \n",
    "    max_memory = np.max([p.memory_MB for p in processes])\n",
    "\n",
    "    time_s = processes[0].time_s\n",
    "    for i in range(1,len(processes)):\n",
    "        time_s += np.prod([p.pass_fraction for p in processes[0:i]])*processes[i].time_s\n",
    "    \n",
    "    input_size_MB = processes[0].input_size_MB\n",
    "    max_input_size = np.max([p.input_size_MB for p in processes])\n",
    "    if input_size_MB < max_input_size:\n",
    "        print(\"WARNING! First process input size (%f) is less than max input size (%f).\\nSetting max to %f MB\"%\n",
    "              (input_size_MB,max_input_size,max_input_size))\n",
    "        input_size_MB=max_input_size\n",
    "            \n",
    "    min_threads = np.max([p.min_threads for p in processes])\n",
    "    max_threads = np.max([p.max_threads for p in processes])\n",
    "    \n",
    "    pass_fraction = np.prod([p.pass_fraction for p in processes])\n",
    "    failure_rate = 1. - np.prod([(1.- p.failure_rate) for p in processes])\n",
    "    \n",
    "    output_size_MB = processes[-1].output_size_MB*pass_fraction\n",
    "\n",
    "    return Process(memory_MB=max_memory,time_s=time_s,\n",
    "                   name=name,\n",
    "                   input_MB=input_size_MB,output_MB=output_size_MB,\n",
    "                   min_threads=min_threads,max_threads=max_threads,\n",
    "                   pass_fraction=pass_fraction,failure_rate=failure_rate)"
   ]
  },
  {
   "cell_type": "code",
   "execution_count": 99,
   "metadata": {},
   "outputs": [],
   "source": [
    "class DataIOInterface:\n",
    "    \n",
    "    def set_name(self,name):\n",
    "        self.name = name\n",
    "\n",
    "    def set_rate_MBps(self,rate_MBps):\n",
    "        self.rate_MBps = rate_MBps\n",
    "    \n",
    "    def __init__(self,\n",
    "                 name=\"\",\n",
    "                 rate_MBps=np.inf):\n",
    "        \n",
    "        self.set_name(name)\n",
    "        self.set_rate_MBps(rate_MBps)\n",
    "        "
   ]
  },
  {
   "cell_type": "code",
   "execution_count": 101,
   "metadata": {},
   "outputs": [],
   "source": [
    "class Job:\n",
    "    \n",
    "    DEFAULT_INTERFACE = DataIOInterface(name=\"Default\",rate_MBps=np.inf)\n",
    "    \n",
    "    def set_process(self,process,recompute=True):\n",
    "        if type(process) is list:\n",
    "            process = ChainProcesses(process)\n",
    "        self.process=process\n",
    "        if recompute: self.recompute()\n",
    "        \n",
    "    def set_n_events(self,n_events,recompute=True):\n",
    "        self.n_events = n_events\n",
    "        if recompute: self.recompute()\n",
    "        \n",
    "    def recompute(self):\n",
    "        self.memory_MB = self.process.memory_MB\n",
    "        self.cpu_time_s = self.process.time_s * self.n_events\n",
    "\n",
    "        self.input_size_MB = self.process.input_size_MB * self.n_events\n",
    "        self.input_time_s = self.input_size_MB / self.input_interface.rate_MBps\n",
    "        \n",
    "        self.output_size_MB = self.process.output_size_MB * self.n_events * self.process.pass_fraction\n",
    "        self.output_time_s = self.output_size_MB / self.output_interface.rate_MBps\n",
    "        \n",
    "        self.io_time_s = self.input_time_s + self.output_time_s\n",
    "        self.total_time_s = self.cpu_time_s + self.io_time_s        \n",
    "        \n",
    "        self.pass_fraction = self.process.pass_fraction\n",
    "        self.failure_rate = 1. - np.power((1.-self.process.failure_rate),self.n_events)\n",
    "    \n",
    "    def set_input_interface(self,input_interface,recompute=True):\n",
    "        self.input_interface=input_interface\n",
    "        if recompute: self.recompute()\n",
    "    \n",
    "    def set_output_interface(self,output_interface,recompute=True):\n",
    "        self.output_interface=output_interface\n",
    "        if recompute: self.recompute()\n",
    "\n",
    "    def __init__(self,\n",
    "                 process,\n",
    "                 input_interface=DEFAULT_INTERFACE,\n",
    "                 output_interface=DEFAULT_INTERFACE,\n",
    "                 n_events=100):\n",
    "        \n",
    "        self.set_process(process,recompute=False)\n",
    "        self.set_n_events(n_events,recompute=False)\n",
    "\n",
    "        self.set_input_interface(input_interface,recompute=False)\n",
    "        self.set_output_interface(output_interface,recompute=False)\n",
    "        \n",
    "        self.recompute()\n",
    "        \n",
    "    def __str__(self):\n",
    "        s = \"Process: '%s':\"%self.process.name\n",
    "        s = s+\"\\nN_Events: %d\"%self.n_events\n",
    "        s = s+\"\\nMemory (MB): %f\"%(self.memory_MB)\n",
    "        s = s+\"\\nTime (hr): %f\"%(self.total_time_s/3600.)\n",
    "        s = s+\"\\n\\tCPU Time (hr): %f\"%(self.cpu_time_s/3600.)\n",
    "        s = s+\"\\n\\tIO Time (hr): %f\"%(self.io_time_s/3600.)\n",
    "        s = s+\"\\nEvent pass fraction: %f\"%self.pass_fraction\n",
    "        s = s+\"\\nInput/Output size (GB): %f / %f\"%(self.input_size_MB/1000.,self.output_size_MB/1000.)\n",
    "        s = s+\"\\nFailure rate: %f\"%self.failure_rate\n",
    "        return s"
   ]
  },
  {
   "cell_type": "code",
   "execution_count": null,
   "metadata": {},
   "outputs": [],
   "source": [
    "class Sample:\n",
    "    \n",
    "    def __init__(self,\n",
    "                 job,\n",
    "                 n_events=None,\n",
    "                 n_jobs=None):\n",
    "        "
   ]
  },
  {
   "cell_type": "code",
   "execution_count": 20,
   "metadata": {},
   "outputs": [],
   "source": [
    "p = Process(name=\"unnamed\")"
   ]
  },
  {
   "cell_type": "code",
   "execution_count": 21,
   "metadata": {},
   "outputs": [
    {
     "name": "stdout",
     "output_type": "stream",
     "text": [
      "Process 'unnamed'\n",
      "\tMemory (MB): 0.000000\n",
      "\tTime per event (s): 0.000000\n",
      "\tInput/Output size per event (MB): 0.000000 / 0.000000\n",
      "\tThreads used (min,max): (1,1)\n",
      "\tEvent pass fraction: 1.000000\n",
      "\tFailure rate: 0.000000\n"
     ]
    }
   ],
   "source": [
    "print(p)"
   ]
  },
  {
   "cell_type": "code",
   "execution_count": 72,
   "metadata": {},
   "outputs": [],
   "source": [
    "icarus_data_reco1 = Process(name=\"ICARUS Data Stage0\",\n",
    "                           memory_MB=4000,\n",
    "                           time_s=120,\n",
    "                           input_MB=170,\n",
    "                           output_MB=50)"
   ]
  },
  {
   "cell_type": "code",
   "execution_count": 73,
   "metadata": {},
   "outputs": [],
   "source": [
    "icarus_data_reco2 = Process(name=\"ICARUS Data Stage1\",\n",
    "                           memory_MB=4000,\n",
    "                           time_s=100,\n",
    "                           input_MB=50,\n",
    "                           output_MB=45)"
   ]
  },
  {
   "cell_type": "code",
   "execution_count": 74,
   "metadata": {},
   "outputs": [
    {
     "name": "stdout",
     "output_type": "stream",
     "text": [
      "Process 'ICARUS Data Stage0':\n",
      "\tMemory (MB): 4000.000000\n",
      "\tTime per event (s): 120.000000\n",
      "\tInput/Output size per event (MB): 170.000000 / 50.000000\n",
      "\tThreads used (min,max): (1,1)\n",
      "\tEvent pass fraction: 1.000000\n",
      "\tFailure rate: 0.000000\n",
      "Process 'ICARUS Data Stage1':\n",
      "\tMemory (MB): 4000.000000\n",
      "\tTime per event (s): 100.000000\n",
      "\tInput/Output size per event (MB): 50.000000 / 45.000000\n",
      "\tThreads used (min,max): (1,1)\n",
      "\tEvent pass fraction: 1.000000\n",
      "\tFailure rate: 0.000000\n"
     ]
    }
   ],
   "source": [
    "print(icarus_data_reco1)\n",
    "print(icarus_data_reco2)"
   ]
  },
  {
   "cell_type": "code",
   "execution_count": 75,
   "metadata": {},
   "outputs": [],
   "source": [
    "icarus_data_reco = ChainProcesses([icarus_data_reco1,icarus_data_reco2],\"ICARUS Data Reco\")"
   ]
  },
  {
   "cell_type": "code",
   "execution_count": 76,
   "metadata": {},
   "outputs": [
    {
     "name": "stdout",
     "output_type": "stream",
     "text": [
      "Process 'ICARUS Data Reco':\n",
      "\tMemory (MB): 4000.000000\n",
      "\tTime per event (s): 220.000000\n",
      "\tInput/Output size per event (MB): 170.000000 / 45.000000\n",
      "\tThreads used (min,max): (1,1)\n",
      "\tEvent pass fraction: 1.000000\n",
      "\tFailure rate: 0.000000\n"
     ]
    }
   ],
   "source": [
    "print(icarus_data_reco)"
   ]
  },
  {
   "cell_type": "code",
   "execution_count": 57,
   "metadata": {},
   "outputs": [],
   "source": [
    "icarus_data_reco1_job = Job(icarus_data_reco1,50)"
   ]
  },
  {
   "cell_type": "code",
   "execution_count": 58,
   "metadata": {},
   "outputs": [
    {
     "name": "stdout",
     "output_type": "stream",
     "text": [
      "Process: 'ICARUS Data Stage0':\n",
      "N_Events: 50\n",
      "Memory (MB): 4000.000000\n",
      "Time (hr): 1.666667\n",
      "Event pass fraction: 1.000000\n",
      "Input/Output size (GB): 8.500000 / 2.500000\n",
      "Failure rate: 0.000000\n"
     ]
    }
   ],
   "source": [
    "print(icarus_data_reco1_job)"
   ]
  },
  {
   "cell_type": "code",
   "execution_count": 59,
   "metadata": {},
   "outputs": [],
   "source": [
    "icarus_data_reco_job = Job([icarus_data_reco1,icarus_data_reco2],50)"
   ]
  },
  {
   "cell_type": "code",
   "execution_count": 60,
   "metadata": {},
   "outputs": [
    {
     "name": "stdout",
     "output_type": "stream",
     "text": [
      "Process: '':\n",
      "N_Events: 50\n",
      "Memory (MB): 4000.000000\n",
      "Time (hr): 3.055556\n",
      "Event pass fraction: 1.000000\n",
      "Input/Output size (GB): 8.500000 / 2.250000\n",
      "Failure rate: 0.000000\n"
     ]
    }
   ],
   "source": [
    "print(icarus_data_reco_job)"
   ]
  },
  {
   "cell_type": "code",
   "execution_count": 68,
   "metadata": {},
   "outputs": [],
   "source": [
    "icarus_data_reco1_notrig = copy.copy(icarus_data_reco1)\n",
    "icarus_data_reco1_notrig.set_pass_fraction(0.05)"
   ]
  },
  {
   "cell_type": "code",
   "execution_count": 69,
   "metadata": {},
   "outputs": [
    {
     "name": "stdout",
     "output_type": "stream",
     "text": [
      "Process 'ICARUS Data Stage0':\n",
      "\tMemory (MB): 4000.000000\n",
      "\tTime per event (s): 120.000000\n",
      "\tInput/Output size per event (MB): 170.000000 / 50.000000\n",
      "\tThreads used (min,max): (1,1)\n",
      "\tEvent pass fraction: 1.000000\n",
      "\tFailure rate: 0.000000\n"
     ]
    }
   ],
   "source": [
    "print(icarus_data_reco1)"
   ]
  },
  {
   "cell_type": "code",
   "execution_count": 70,
   "metadata": {},
   "outputs": [
    {
     "name": "stdout",
     "output_type": "stream",
     "text": [
      "Process 'ICARUS Data Stage0':\n",
      "\tMemory (MB): 4000.000000\n",
      "\tTime per event (s): 120.000000\n",
      "\tInput/Output size per event (MB): 170.000000 / 50.000000\n",
      "\tThreads used (min,max): (1,1)\n",
      "\tEvent pass fraction: 0.050000\n",
      "\tFailure rate: 0.000000\n"
     ]
    }
   ],
   "source": [
    "print(icarus_data_reco1_notrig)"
   ]
  },
  {
   "cell_type": "code",
   "execution_count": 80,
   "metadata": {},
   "outputs": [],
   "source": [
    "icarus_data_reco_notrig = ChainProcesses([icarus_data_reco1_notrig,icarus_data_reco2],\"ICARUS Data Reco NoTrig\")"
   ]
  },
  {
   "cell_type": "code",
   "execution_count": 81,
   "metadata": {},
   "outputs": [
    {
     "name": "stdout",
     "output_type": "stream",
     "text": [
      "Process 'ICARUS Data Reco NoTrig':\n",
      "\tMemory (MB): 4000.000000\n",
      "\tTime per event (s): 125.000000\n",
      "\tInput/Output size per event (MB): 170.000000 / 2.250000\n",
      "\tThreads used (min,max): (1,1)\n",
      "\tEvent pass fraction: 0.050000\n",
      "\tFailure rate: 0.000000\n"
     ]
    }
   ],
   "source": [
    "print(icarus_data_reco_notrig)"
   ]
  },
  {
   "cell_type": "code",
   "execution_count": 90,
   "metadata": {},
   "outputs": [],
   "source": [
    "icarus_data_pmtFilter = Process(name=\"ICARUS Data PMTFilter\",\n",
    "                                memory_MB=2000,\n",
    "                                time_s=2,\n",
    "                                input_MB=170,\n",
    "                                output_MB=50*0.05,\n",
    "                                pass_fraction=0.05)"
   ]
  },
  {
   "cell_type": "code",
   "execution_count": 86,
   "metadata": {},
   "outputs": [
    {
     "name": "stdout",
     "output_type": "stream",
     "text": [
      "WARNING! First process input size (8.500000) is less than max input size (170.000000).\n",
      "Setting max to 170.000000 MB\n"
     ]
    }
   ],
   "source": [
    "icarus_data_reco_notrig = ChainProcesses([icarus_data_pmtFilter,icarus_data_reco1,icarus_data_reco2],\"ICARUS Data Reco NoTrig\")"
   ]
  },
  {
   "cell_type": "code",
   "execution_count": 87,
   "metadata": {},
   "outputs": [
    {
     "name": "stdout",
     "output_type": "stream",
     "text": [
      "Process 'ICARUS Data Reco NoTrig':\n",
      "\tMemory (MB): 4000.000000\n",
      "\tTime per event (s): 13.000000\n",
      "\tInput/Output size per event (MB): 170.000000 / 2.250000\n",
      "\tThreads used (min,max): (1,1)\n",
      "\tEvent pass fraction: 0.050000\n",
      "\tFailure rate: 0.000000\n"
     ]
    }
   ],
   "source": [
    "print(icarus_data_reco_notrig)"
   ]
  },
  {
   "cell_type": "code",
   "execution_count": 103,
   "metadata": {},
   "outputs": [],
   "source": [
    "icarus_data_reco_job_pmtfilter = Job([icarus_data_pmtFilter,icarus_data_reco1,icarus_data_reco2],n_events=50)"
   ]
  },
  {
   "cell_type": "code",
   "execution_count": 105,
   "metadata": {},
   "outputs": [],
   "source": [
    "tape_io_interface = DataIOInterface(name=\"FNAL Enstore\",rate_MBps=300)"
   ]
  },
  {
   "cell_type": "code",
   "execution_count": 106,
   "metadata": {},
   "outputs": [],
   "source": [
    "icarus_data_reco_job_pmtfilter = Job(process=[icarus_data_pmtFilter,icarus_data_reco1,icarus_data_reco2],\n",
    "                                     n_events=50,\n",
    "                                     input_interface=tape_io_interface,\n",
    "                                     output_interface=tape_io_interface)"
   ]
  },
  {
   "cell_type": "code",
   "execution_count": 107,
   "metadata": {},
   "outputs": [
    {
     "name": "stdout",
     "output_type": "stream",
     "text": [
      "Process: '':\n",
      "N_Events: 50\n",
      "Memory (MB): 4000.000000\n",
      "Time (hr): 0.188431\n",
      "\tCPU Time (hr): 0.180556\n",
      "\tIO Time (hr): 0.007876\n",
      "Event pass fraction: 0.050000\n",
      "Input/Output size (GB): 8.500000 / 0.005625\n",
      "Failure rate: 0.000000\n"
     ]
    }
   ],
   "source": [
    "print(icarus_data_reco_job_pmtfilter)"
   ]
  },
  {
   "cell_type": "code",
   "execution_count": 96,
   "metadata": {},
   "outputs": [
    {
     "data": {
      "text/plain": [
       "0.0"
      ]
     },
     "execution_count": 96,
     "metadata": {},
     "output_type": "execute_result"
    }
   ],
   "source": [
    "1./np.inf"
   ]
  },
  {
   "cell_type": "code",
   "execution_count": null,
   "metadata": {},
   "outputs": [],
   "source": []
  }
 ],
 "metadata": {
  "kernelspec": {
   "display_name": "Python 3",
   "language": "python",
   "name": "python3"
  },
  "language_info": {
   "codemirror_mode": {
    "name": "ipython",
    "version": 3
   },
   "file_extension": ".py",
   "mimetype": "text/x-python",
   "name": "python",
   "nbconvert_exporter": "python",
   "pygments_lexer": "ipython3",
   "version": "3.8.2"
  }
 },
 "nbformat": 4,
 "nbformat_minor": 4
}
